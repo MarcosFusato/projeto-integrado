{
 "cells": [
  {
   "cell_type": "markdown",
   "id": "crucial-tampa",
   "metadata": {},
   "source": [
    "# Informações sobre a base de dados\n",
    "* Nome do dataset: adult.csv\n",
    "\n",
    "* Descrição: Descrição: O nome da base de dados é adult.csv onde será realizada a classificação se determinado individuo recebe <=50K ou >50K, ou seja será realizada a Avaliação de Rendas\n",
    "\n",
    "* Link fonte de dados: https://www.kaggle.com/uciml/adult-census-income?select=adult.csv"
   ]
  },
  {
   "cell_type": "markdown",
   "id": "dense-burke",
   "metadata": {},
   "source": [
    "# Dicionario de dados com o nome de cada campo e os tipos dos dados\n",
    "* age: continuous.\n",
    "* workclass: Private, Self-emp-not-inc, Self-emp-inc, Federal-gov, Local-gov, State-gov, Without-pay, Never-worked.\n",
    "* fnlwgt: continuous.\n",
    "* education: Bachelors, Some-college, 11th, HS-grad, Prof-school, Assoc-acdm, Assoc-voc, 9th, 7th-8th, 12th, Masters, 1st-4th, 10th, Doctorate, 5th-6th, Preschool.\n",
    "* education-num: continuous.\n",
    "* marital-status: Married-civ-spouse, Divorced, Never-married, Separated, Widowed, Married-spouse-absent, Married-AF-spouse.\n",
    "* occupation: Tech-support, Craft-repair, Other-service, Sales, Exec-managerial, Prof-specialty, Handlers-cleaners, Machine-op-inspct, Adm-clerical, Farming-fishing, Transport-moving, Priv-house-serv, Protective-serv, Armed-Forces.\n",
    "* relationship: Wife, Own-child, Husband, Not-in-family, Other-relative, Unmarried.\n",
    "* race: White, Asian-Pac-Islander, Amer-Indian-Eskimo, Other, Black.\n",
    "* sex: Female, Male.\n",
    "* capital-gain: continuous.\n",
    "* capital-loss: continuous.\n",
    "* hours-per-week: continuous.\n",
    "* native-country: United-States, Cambodia, England, Puerto-Rico, Canada, Germany, Outlying-US(Guam-USVI-etc), India, Japan, Greece, South, China, Cuba, Iran, Honduras, Philippines, Italy, Poland, Jamaica, Vietnam, Mexico, Portugal, Ireland, France, Dominican-Republic, Laos, Ecuador, Taiwan, Haiti, Columbia, Hungary, Guatemala, Nicaragua, Scotland, Thailand, Yugoslavia, El-Salvador, Trinadad&Tobago, Peru, Hong, Holand-Netherlands."
   ]
  },
  {
   "cell_type": "markdown",
   "id": "traditional-blame",
   "metadata": {},
   "source": [
    "# Importando as bibliotecas"
   ]
  },
  {
   "cell_type": "code",
   "execution_count": 1,
   "id": "aboriginal-factory",
   "metadata": {},
   "outputs": [],
   "source": [
    "import pandas as pd\n",
    "import numpy as np\n",
    "import matplotlib.pyplot as plt\n",
    "import seaborn as sns\n",
    "%matplotlib inline\n",
    "\n",
    "# Biblioteca para treino, metricas \n",
    "from sklearn.model_selection import train_test_split\n",
    "from sklearn.metrics import accuracy_score\n",
    "from sklearn.metrics import confusion_matrix\n",
    "from sklearn.metrics import precision_score\n",
    "from sklearn.metrics import recall_score\n",
    "from sklearn.metrics import f1_score\n",
    "from sklearn.metrics import roc_curve, auc\n",
    "\n",
    "# Biblioteca para validação dos algoritmos\n",
    "from sklearn.model_selection import cross_val_score\n",
    "\n",
    "# Algoritmos\n",
    "from xgboost import XGBClassifier\n",
    "from sklearn.ensemble import RandomForestClassifier\n",
    "from sklearn.tree import DecisionTreeClassifier\n",
    "from sklearn.svm import SVC"
   ]
  },
  {
   "cell_type": "markdown",
   "id": "average-dealer",
   "metadata": {},
   "source": [
    "* Criadas as classes TratamentoDados e ProcessamentoDados usadas no modulo A as mesmas serão importadas abaixo"
   ]
  },
  {
   "cell_type": "code",
   "execution_count": 2,
   "id": "chubby-toolbox",
   "metadata": {},
   "outputs": [],
   "source": [
    "from lib.processamento_dados import ProcessamentoDados as pr\n",
    "from lib.tratamento_dados import TratamentoDados as tr"
   ]
  },
  {
   "cell_type": "markdown",
   "id": "enhanced-encyclopedia",
   "metadata": {},
   "source": [
    "* Criada a classe PreparacaoDados usadas no modulo B a mesma será importada abaixo:"
   ]
  },
  {
   "cell_type": "code",
   "execution_count": 3,
   "id": "large-destruction",
   "metadata": {},
   "outputs": [],
   "source": [
    "from lib.preparacao_dados import PreparacaoDados as prep"
   ]
  },
  {
   "cell_type": "markdown",
   "id": "boxed-camera",
   "metadata": {},
   "source": [
    "### Ignora Warnings do python"
   ]
  },
  {
   "cell_type": "code",
   "execution_count": 4,
   "id": "labeled-monte",
   "metadata": {},
   "outputs": [],
   "source": [
    "def warn(*args, **kwargs):\n",
    "    pass\n",
    "import warnings\n",
    "warnings.warn = warn"
   ]
  },
  {
   "cell_type": "markdown",
   "id": "electrical-fleece",
   "metadata": {},
   "source": [
    "## Importando as bases de dados"
   ]
  },
  {
   "cell_type": "markdown",
   "id": "removed-violation",
   "metadata": {},
   "source": [
    "* Na modulo A do projeto optei por utilizar uma função para renomear as colunas do dataset a fim de mostrar os valores originais na modulo B resolvi utilizar o novo nome das colunas ao importar os dados do arquivo csv"
   ]
  },
  {
   "cell_type": "code",
   "execution_count": 5,
   "id": "later-bulgarian",
   "metadata": {},
   "outputs": [],
   "source": [
    "# cabeçalho com o nome das colunas do dataset\n",
    "header_columns = ['Idade', 'Classe Trabalho', 'Peso Final', 'Educacao', 'Num Educacao', 'Estado Civil', \n",
    "                  'Ocupacao','Relacao', 'Raca', 'Sexo', 'Ganho Capital', 'Perda Capital', 'Horas Semana', \n",
    "                  'Pais Nativo', 'Renda']"
   ]
  },
  {
   "cell_type": "code",
   "execution_count": 6,
   "id": "considerable-afternoon",
   "metadata": {},
   "outputs": [],
   "source": [
    "renda = pd.read_csv(\"base/adult.csv\", names=header_columns, skiprows=1)"
   ]
  },
  {
   "cell_type": "markdown",
   "id": "documentary-telling",
   "metadata": {},
   "source": [
    "## Exbindo os dados do dataset "
   ]
  },
  {
   "cell_type": "code",
   "execution_count": 7,
   "id": "pregnant-thanks",
   "metadata": {},
   "outputs": [
    {
     "data": {
      "text/html": [
       "<div>\n",
       "<style scoped>\n",
       "    .dataframe tbody tr th:only-of-type {\n",
       "        vertical-align: middle;\n",
       "    }\n",
       "\n",
       "    .dataframe tbody tr th {\n",
       "        vertical-align: top;\n",
       "    }\n",
       "\n",
       "    .dataframe thead th {\n",
       "        text-align: right;\n",
       "    }\n",
       "</style>\n",
       "<table border=\"1\" class=\"dataframe\">\n",
       "  <thead>\n",
       "    <tr style=\"text-align: right;\">\n",
       "      <th></th>\n",
       "      <th>Idade</th>\n",
       "      <th>Classe Trabalho</th>\n",
       "      <th>Peso Final</th>\n",
       "      <th>Educacao</th>\n",
       "      <th>Num Educacao</th>\n",
       "      <th>Estado Civil</th>\n",
       "      <th>Ocupacao</th>\n",
       "      <th>Relacao</th>\n",
       "      <th>Raca</th>\n",
       "      <th>Sexo</th>\n",
       "      <th>Ganho Capital</th>\n",
       "      <th>Perda Capital</th>\n",
       "      <th>Horas Semana</th>\n",
       "      <th>Pais Nativo</th>\n",
       "      <th>Renda</th>\n",
       "    </tr>\n",
       "  </thead>\n",
       "  <tbody>\n",
       "    <tr>\n",
       "      <th>0</th>\n",
       "      <td>90</td>\n",
       "      <td>?</td>\n",
       "      <td>77053</td>\n",
       "      <td>HS-grad</td>\n",
       "      <td>9</td>\n",
       "      <td>Widowed</td>\n",
       "      <td>?</td>\n",
       "      <td>Not-in-family</td>\n",
       "      <td>White</td>\n",
       "      <td>Female</td>\n",
       "      <td>0</td>\n",
       "      <td>4356</td>\n",
       "      <td>40</td>\n",
       "      <td>United-States</td>\n",
       "      <td>&lt;=50K</td>\n",
       "    </tr>\n",
       "    <tr>\n",
       "      <th>1</th>\n",
       "      <td>82</td>\n",
       "      <td>Private</td>\n",
       "      <td>132870</td>\n",
       "      <td>HS-grad</td>\n",
       "      <td>9</td>\n",
       "      <td>Widowed</td>\n",
       "      <td>Exec-managerial</td>\n",
       "      <td>Not-in-family</td>\n",
       "      <td>White</td>\n",
       "      <td>Female</td>\n",
       "      <td>0</td>\n",
       "      <td>4356</td>\n",
       "      <td>18</td>\n",
       "      <td>United-States</td>\n",
       "      <td>&lt;=50K</td>\n",
       "    </tr>\n",
       "    <tr>\n",
       "      <th>2</th>\n",
       "      <td>66</td>\n",
       "      <td>?</td>\n",
       "      <td>186061</td>\n",
       "      <td>Some-college</td>\n",
       "      <td>10</td>\n",
       "      <td>Widowed</td>\n",
       "      <td>?</td>\n",
       "      <td>Unmarried</td>\n",
       "      <td>Black</td>\n",
       "      <td>Female</td>\n",
       "      <td>0</td>\n",
       "      <td>4356</td>\n",
       "      <td>40</td>\n",
       "      <td>United-States</td>\n",
       "      <td>&lt;=50K</td>\n",
       "    </tr>\n",
       "    <tr>\n",
       "      <th>3</th>\n",
       "      <td>54</td>\n",
       "      <td>Private</td>\n",
       "      <td>140359</td>\n",
       "      <td>7th-8th</td>\n",
       "      <td>4</td>\n",
       "      <td>Divorced</td>\n",
       "      <td>Machine-op-inspct</td>\n",
       "      <td>Unmarried</td>\n",
       "      <td>White</td>\n",
       "      <td>Female</td>\n",
       "      <td>0</td>\n",
       "      <td>3900</td>\n",
       "      <td>40</td>\n",
       "      <td>United-States</td>\n",
       "      <td>&lt;=50K</td>\n",
       "    </tr>\n",
       "    <tr>\n",
       "      <th>4</th>\n",
       "      <td>41</td>\n",
       "      <td>Private</td>\n",
       "      <td>264663</td>\n",
       "      <td>Some-college</td>\n",
       "      <td>10</td>\n",
       "      <td>Separated</td>\n",
       "      <td>Prof-specialty</td>\n",
       "      <td>Own-child</td>\n",
       "      <td>White</td>\n",
       "      <td>Female</td>\n",
       "      <td>0</td>\n",
       "      <td>3900</td>\n",
       "      <td>40</td>\n",
       "      <td>United-States</td>\n",
       "      <td>&lt;=50K</td>\n",
       "    </tr>\n",
       "  </tbody>\n",
       "</table>\n",
       "</div>"
      ],
      "text/plain": [
       "   Idade Classe Trabalho  Peso Final      Educacao  Num Educacao Estado Civil  \\\n",
       "0     90               ?       77053       HS-grad             9      Widowed   \n",
       "1     82         Private      132870       HS-grad             9      Widowed   \n",
       "2     66               ?      186061  Some-college            10      Widowed   \n",
       "3     54         Private      140359       7th-8th             4     Divorced   \n",
       "4     41         Private      264663  Some-college            10    Separated   \n",
       "\n",
       "            Ocupacao        Relacao   Raca    Sexo  Ganho Capital  \\\n",
       "0                  ?  Not-in-family  White  Female              0   \n",
       "1    Exec-managerial  Not-in-family  White  Female              0   \n",
       "2                  ?      Unmarried  Black  Female              0   \n",
       "3  Machine-op-inspct      Unmarried  White  Female              0   \n",
       "4     Prof-specialty      Own-child  White  Female              0   \n",
       "\n",
       "   Perda Capital  Horas Semana    Pais Nativo  Renda  \n",
       "0           4356            40  United-States  <=50K  \n",
       "1           4356            18  United-States  <=50K  \n",
       "2           4356            40  United-States  <=50K  \n",
       "3           3900            40  United-States  <=50K  \n",
       "4           3900            40  United-States  <=50K  "
      ]
     },
     "execution_count": 7,
     "metadata": {},
     "output_type": "execute_result"
    }
   ],
   "source": [
    "renda.head()"
   ]
  },
  {
   "cell_type": "markdown",
   "id": "changing-marketplace",
   "metadata": {},
   "source": [
    "# Processamento e Tratamento dos dados"
   ]
  },
  {
   "cell_type": "markdown",
   "id": "lucky-parish",
   "metadata": {},
   "source": [
    "## Substituindo os espaços em branco por Nan"
   ]
  },
  {
   "cell_type": "code",
   "execution_count": 8,
   "id": "rising-merit",
   "metadata": {},
   "outputs": [],
   "source": [
    "renda = tr.tratamento_espaco_branco(renda)"
   ]
  },
  {
   "cell_type": "markdown",
   "id": "acoustic-bunch",
   "metadata": {},
   "source": [
    "## Tratamento de dados ausentes"
   ]
  },
  {
   "cell_type": "markdown",
   "id": "higher-blowing",
   "metadata": {},
   "source": [
    "### Tratamento de dados ausentes na coluna Classe Trabalho"
   ]
  },
  {
   "cell_type": "code",
   "execution_count": 9,
   "id": "popular-small",
   "metadata": {},
   "outputs": [],
   "source": [
    "renda = tr.tratamento_dados_ausentes(renda, 'Classe Trabalho')"
   ]
  },
  {
   "cell_type": "markdown",
   "id": "described-broad",
   "metadata": {},
   "source": [
    "### Tratamento de dados ausentes na coluna Coluna Ocupacao"
   ]
  },
  {
   "cell_type": "code",
   "execution_count": 10,
   "id": "respiratory-border",
   "metadata": {},
   "outputs": [],
   "source": [
    "renda = tr.tratamento_dados_ausentes(renda, 'Ocupacao')"
   ]
  },
  {
   "cell_type": "markdown",
   "id": "joint-german",
   "metadata": {},
   "source": [
    "### Tratamento de dados ausentes na coluna Pais Nativo"
   ]
  },
  {
   "cell_type": "code",
   "execution_count": 11,
   "id": "aboriginal-semiconductor",
   "metadata": {},
   "outputs": [],
   "source": [
    "renda = tr.tratamento_dados_ausentes(renda, 'Pais Nativo')"
   ]
  },
  {
   "cell_type": "markdown",
   "id": "adjusted-camera",
   "metadata": {},
   "source": [
    "## Verificando se ainda temos dados ausentes\n",
    "* Podemos perceber já não temos mais dados ausentes no dataset"
   ]
  },
  {
   "cell_type": "code",
   "execution_count": 12,
   "id": "adjusted-employer",
   "metadata": {},
   "outputs": [
    {
     "data": {
      "text/plain": [
       "Idade              0\n",
       "Classe Trabalho    0\n",
       "Peso Final         0\n",
       "Educacao           0\n",
       "Num Educacao       0\n",
       "Estado Civil       0\n",
       "Ocupacao           0\n",
       "Relacao            0\n",
       "Raca               0\n",
       "Sexo               0\n",
       "Ganho Capital      0\n",
       "Perda Capital      0\n",
       "Horas Semana       0\n",
       "Pais Nativo        0\n",
       "Renda              0\n",
       "dtype: int64"
      ]
     },
     "execution_count": 12,
     "metadata": {},
     "output_type": "execute_result"
    }
   ],
   "source": [
    "renda.isnull().sum()"
   ]
  },
  {
   "cell_type": "markdown",
   "id": "found-vegetable",
   "metadata": {},
   "source": [
    "# Tratamentos de Outiliers"
   ]
  },
  {
   "cell_type": "markdown",
   "id": "graduate-broadcast",
   "metadata": {},
   "source": [
    "### Dimensão do dataset antes da remoção dos outliers"
   ]
  },
  {
   "cell_type": "markdown",
   "id": "enabling-accreditation",
   "metadata": {},
   "source": [
    "### OBS: Será feita primeiro a analise exploratória e grafica dos dados para posteriormente aplicar a limpeza dos outliers"
   ]
  },
  {
   "cell_type": "code",
   "execution_count": 13,
   "id": "olive-lancaster",
   "metadata": {},
   "outputs": [],
   "source": [
    "renda2 = renda.copy()"
   ]
  },
  {
   "cell_type": "code",
   "execution_count": 14,
   "id": "therapeutic-breach",
   "metadata": {},
   "outputs": [
    {
     "data": {
      "text/plain": [
       "(32561, 15)"
      ]
     },
     "execution_count": 14,
     "metadata": {},
     "output_type": "execute_result"
    }
   ],
   "source": [
    "renda2.shape"
   ]
  },
  {
   "cell_type": "markdown",
   "id": "controlled-enlargement",
   "metadata": {},
   "source": [
    "### Remove outlier Coluna Idade"
   ]
  },
  {
   "cell_type": "code",
   "execution_count": 15,
   "id": "suffering-framework",
   "metadata": {},
   "outputs": [],
   "source": [
    "renda2 = pr.remover_outlier_metodo_estatistico(renda2,'Idade')"
   ]
  },
  {
   "cell_type": "markdown",
   "id": "impossible-rugby",
   "metadata": {},
   "source": [
    "### Remove outlier Coluna Horas Semana"
   ]
  },
  {
   "cell_type": "code",
   "execution_count": 16,
   "id": "handed-humanity",
   "metadata": {},
   "outputs": [],
   "source": [
    "renda2 = pr.remover_outlier_metodo_estatistico(renda2,'Horas Semana')"
   ]
  },
  {
   "cell_type": "markdown",
   "id": "industrial-hybrid",
   "metadata": {},
   "source": [
    "### Remove outlier Ganho Capital"
   ]
  },
  {
   "cell_type": "code",
   "execution_count": 17,
   "id": "interstate-acrobat",
   "metadata": {},
   "outputs": [],
   "source": [
    "renda2 = pr.remover_outlier_metodo_estatistico(renda2,'Ganho Capital')"
   ]
  },
  {
   "cell_type": "markdown",
   "id": "eleven-pharmacy",
   "metadata": {},
   "source": [
    "### Dimensão do dataset após da remoção dos outliers¶"
   ]
  },
  {
   "cell_type": "code",
   "execution_count": 18,
   "id": "alike-october",
   "metadata": {},
   "outputs": [
    {
     "data": {
      "text/plain": [
       "(28909, 15)"
      ]
     },
     "execution_count": 18,
     "metadata": {},
     "output_type": "execute_result"
    }
   ],
   "source": [
    "renda2.shape"
   ]
  },
  {
   "cell_type": "markdown",
   "id": "figured-scroll",
   "metadata": {},
   "source": [
    "# Criação dos atributos (X, y)"
   ]
  },
  {
   "cell_type": "markdown",
   "id": "bridal-costs",
   "metadata": {},
   "source": [
    "### Criando uma copia do dataframe"
   ]
  },
  {
   "cell_type": "code",
   "execution_count": 19,
   "id": "meaningful-plate",
   "metadata": {},
   "outputs": [],
   "source": [
    "renda3 = renda2.copy()"
   ]
  },
  {
   "cell_type": "markdown",
   "id": "arbitrary-testing",
   "metadata": {},
   "source": [
    "### Preparando a lista de colunas auxiliares para a criação da variaveis X e y"
   ]
  },
  {
   "cell_type": "code",
   "execution_count": 20,
   "id": "talented-plasma",
   "metadata": {},
   "outputs": [],
   "source": [
    "# Lista de colunas para a criação do data frame\n",
    "lista_colunas_aux = ['Idade', 'Ganho Capital', 'Perda Capital', 'Relacao', 'Raca','Sexo', 'Renda']\n",
    "\n",
    "# Lista de colunas para transforma variaveis categorica em numérica\n",
    "lista_colunas_dummy = ['Relacao', 'Raca','Sexo']\n",
    "\n",
    "# Lista de colunas para deixar na mesma escala\n",
    "lista_colunas_scale = ['Idade', 'Ganho Capital', 'Perda Capital']"
   ]
  },
  {
   "cell_type": "markdown",
   "id": "likely-flexibility",
   "metadata": {},
   "source": [
    "### Chama a função que retorna os valores de X e y"
   ]
  },
  {
   "cell_type": "code",
   "execution_count": 21,
   "id": "missing-management",
   "metadata": {},
   "outputs": [],
   "source": [
    "X, y = prep.retorna_data_x_y(lista_colunas_dummy, lista_colunas_scale, renda3[lista_colunas_aux])"
   ]
  },
  {
   "cell_type": "markdown",
   "id": "decent-abuse",
   "metadata": {},
   "source": [
    "# Balanceamento da base"
   ]
  },
  {
   "cell_type": "markdown",
   "id": "illegal-collective",
   "metadata": {},
   "source": [
    "###  Chama função para balanceamento da base de dados"
   ]
  },
  {
   "cell_type": "code",
   "execution_count": 22,
   "id": "entertaining-oxygen",
   "metadata": {},
   "outputs": [],
   "source": [
    "X_balanc, y_balanc = prep.retorna_data_x_y_balanceada(X, y)"
   ]
  },
  {
   "cell_type": "markdown",
   "id": "temporal-boost",
   "metadata": {},
   "source": [
    "# Criação dos modelos"
   ]
  },
  {
   "cell_type": "markdown",
   "id": "scientific-exercise",
   "metadata": {},
   "source": [
    "### Algoritmo XGB"
   ]
  },
  {
   "cell_type": "code",
   "execution_count": 23,
   "id": "sorted-curve",
   "metadata": {},
   "outputs": [],
   "source": [
    "# Separa base de treino e teste\n",
    "X_trainXGB, X_testXGB, y_trainXGB, y_testXGB = train_test_split(X_balanc, y_balanc, test_size=0.2, random_state=1)\n",
    "\n",
    "# Cria uma instancia do algoritmo XGB\n",
    "modeloXGB = XGBClassifier(objective='binary:logistic', \n",
    "                          learning_rate=0.1, \n",
    "                          max_depth=9, \n",
    "                          n_estimators=180,\n",
    "                          nthread=4, \n",
    "                          seed=42)\n",
    "# Treina o modelo\n",
    "modeloXGB.fit(X_trainXGB, y_trainXGB, eval_metric='rmse')\n",
    "\n",
    "# Faz a predição\n",
    "y_predXGB = modeloXGB.predict(X_testXGB)"
   ]
  },
  {
   "cell_type": "markdown",
   "id": "reasonable-worthy",
   "metadata": {},
   "source": [
    "### Algoritmo Random Forest"
   ]
  },
  {
   "cell_type": "code",
   "execution_count": 24,
   "id": "furnished-questionnaire",
   "metadata": {},
   "outputs": [],
   "source": [
    "# Separa base de treino e teste\n",
    "X_trainRF, X_testRF, y_trainRF, y_testRF = train_test_split(X_balanc, y_balanc, test_size=0.2, random_state=1)\n",
    "\n",
    "# Cria uma instancia do algoritmo Random Forest\n",
    "modeloRF = RandomForestClassifier(bootstrap=True, \n",
    "                                  max_depth=70, \n",
    "                                  max_features=2, \n",
    "                                  min_samples_leaf=3, \n",
    "                                  min_samples_split=4, \n",
    "                                  n_estimators=700,\n",
    "                                  random_state=1)                                  \n",
    "# Treina o modelo\n",
    "modeloRF.fit(X_trainRF, y_trainRF.values.ravel())\n",
    "\n",
    "# Faz a predição\n",
    "y_predRF = modeloRF.predict(X_testRF)"
   ]
  },
  {
   "cell_type": "markdown",
   "id": "manufactured-chosen",
   "metadata": {},
   "source": [
    "### Algoritmo Decision Tree"
   ]
  },
  {
   "cell_type": "code",
   "execution_count": 25,
   "id": "acknowledged-watershed",
   "metadata": {},
   "outputs": [],
   "source": [
    "# Separa base de treino e teste\n",
    "X_trainDT, X_testDT, y_trainDT, y_testDT = train_test_split(X_balanc, y_balanc, test_size=0.2, random_state=1)\n",
    "\n",
    "# Cria uma instancia do algoritmo Decison Tree\n",
    "modeloDT = DecisionTreeClassifier(criterion='entropy', \n",
    "                                  max_depth=14,\n",
    "                                  random_state=1)\n",
    "                                                                    \n",
    "# Treina o modelo\n",
    "modeloDT.fit(X_trainDT, y_trainDT)\n",
    "\n",
    "# Faz a predição\n",
    "y_predDT = modeloDT.predict(X_testDT)"
   ]
  },
  {
   "cell_type": "markdown",
   "id": "broad-clear",
   "metadata": {},
   "source": [
    "### Algoritmo SVM"
   ]
  },
  {
   "cell_type": "code",
   "execution_count": 26,
   "id": "caroline-issue",
   "metadata": {},
   "outputs": [],
   "source": [
    "# Separa base de treino e teste\n",
    "X_trainSVM, X_testSVM, y_trainSVM, y_testSVM = train_test_split(X_balanc, y_balanc, test_size=0.2, random_state=1)\n",
    "\n",
    "# Cria uma instancia do algoritmo Decison Tree\n",
    "modeloSVM = SVC(C=100, \n",
    "                gamma=1,\n",
    "                kernel='poly',\n",
    "                random_state=1)\n",
    "                                                                    \n",
    "# Treina o modelo\n",
    "modeloSVM.fit(X_trainSVM, y_trainSVM)\n",
    "\n",
    "# Faz a predição\n",
    "y_predSVM = modeloSVM.predict(X_testSVM)"
   ]
  },
  {
   "cell_type": "markdown",
   "id": "incorporate-newfoundland",
   "metadata": {},
   "source": [
    "# Validação do Modelo"
   ]
  },
  {
   "cell_type": "markdown",
   "id": "monetary-directory",
   "metadata": {},
   "source": [
    "* Será usada para validação do modelo a validação cruzada da biblioteca scikitlearn"
   ]
  },
  {
   "cell_type": "code",
   "execution_count": 34,
   "id": "indie-intervention",
   "metadata": {},
   "outputs": [],
   "source": [
    "def validacao_cruzada_modelo(modelo, x_train, y_train):\n",
    "    val_scores = cross_val_score(modelo, x_train, y_train, cv=5)\n",
    "    print('Acurácia nos k-folds:', val_scores)\n",
    "    print('Média: {:.2} | Desvio: {:.2}'.format(np.mean(val_scores), np.std(val_scores)))"
   ]
  },
  {
   "cell_type": "markdown",
   "id": "continent-bandwidth",
   "metadata": {},
   "source": [
    "### Algoritmo XGB"
   ]
  },
  {
   "cell_type": "code",
   "execution_count": 35,
   "id": "southern-breeding",
   "metadata": {},
   "outputs": [
    {
     "name": "stdout",
     "output_type": "stream",
     "text": [
      "[15:09:00] WARNING: C:/Users/Administrator/workspace/xgboost-win64_release_1.4.0/src/learner.cc:1095: Starting in XGBoost 1.3.0, the default evaluation metric used with the objective 'binary:logistic' was changed from 'error' to 'logloss'. Explicitly set eval_metric if you'd like to restore the old behavior.\n",
      "[15:09:01] WARNING: C:/Users/Administrator/workspace/xgboost-win64_release_1.4.0/src/learner.cc:1095: Starting in XGBoost 1.3.0, the default evaluation metric used with the objective 'binary:logistic' was changed from 'error' to 'logloss'. Explicitly set eval_metric if you'd like to restore the old behavior.\n",
      "[15:09:03] WARNING: C:/Users/Administrator/workspace/xgboost-win64_release_1.4.0/src/learner.cc:1095: Starting in XGBoost 1.3.0, the default evaluation metric used with the objective 'binary:logistic' was changed from 'error' to 'logloss'. Explicitly set eval_metric if you'd like to restore the old behavior.\n",
      "[15:09:04] WARNING: C:/Users/Administrator/workspace/xgboost-win64_release_1.4.0/src/learner.cc:1095: Starting in XGBoost 1.3.0, the default evaluation metric used with the objective 'binary:logistic' was changed from 'error' to 'logloss'. Explicitly set eval_metric if you'd like to restore the old behavior.\n",
      "[15:09:05] WARNING: C:/Users/Administrator/workspace/xgboost-win64_release_1.4.0/src/learner.cc:1095: Starting in XGBoost 1.3.0, the default evaluation metric used with the objective 'binary:logistic' was changed from 'error' to 'logloss'. Explicitly set eval_metric if you'd like to restore the old behavior.\n",
      "Acurácia nos k-folds: [0.99309429 0.99548473 0.99256308 0.99150066 0.99628154]\n",
      "Média: 0.99 | Desvio: 0.0018\n"
     ]
    }
   ],
   "source": [
    "validacao_cruzada_modelo(modeloXGB, X_trainXGB, y_trainXGB)"
   ]
  },
  {
   "cell_type": "markdown",
   "id": "cooked-kazakhstan",
   "metadata": {},
   "source": [
    "### Algoritmo Random Forest"
   ]
  },
  {
   "cell_type": "code",
   "execution_count": 36,
   "id": "prompt-intensity",
   "metadata": {},
   "outputs": [
    {
     "name": "stderr",
     "output_type": "stream",
     "text": [
      "c:\\users\\marcos.fusato\\appdata\\local\\programs\\python\\python38\\lib\\site-packages\\sklearn\\model_selection\\_validation.py:680: DataConversionWarning: A column-vector y was passed when a 1d array was expected. Please change the shape of y to (n_samples,), for example using ravel().\n",
      "  estimator.fit(X_train, y_train, **fit_params)\n",
      "c:\\users\\marcos.fusato\\appdata\\local\\programs\\python\\python38\\lib\\site-packages\\sklearn\\model_selection\\_validation.py:680: DataConversionWarning: A column-vector y was passed when a 1d array was expected. Please change the shape of y to (n_samples,), for example using ravel().\n",
      "  estimator.fit(X_train, y_train, **fit_params)\n",
      "c:\\users\\marcos.fusato\\appdata\\local\\programs\\python\\python38\\lib\\site-packages\\sklearn\\model_selection\\_validation.py:680: DataConversionWarning: A column-vector y was passed when a 1d array was expected. Please change the shape of y to (n_samples,), for example using ravel().\n",
      "  estimator.fit(X_train, y_train, **fit_params)\n",
      "c:\\users\\marcos.fusato\\appdata\\local\\programs\\python\\python38\\lib\\site-packages\\sklearn\\model_selection\\_validation.py:680: DataConversionWarning: A column-vector y was passed when a 1d array was expected. Please change the shape of y to (n_samples,), for example using ravel().\n",
      "  estimator.fit(X_train, y_train, **fit_params)\n",
      "c:\\users\\marcos.fusato\\appdata\\local\\programs\\python\\python38\\lib\\site-packages\\sklearn\\model_selection\\_validation.py:680: DataConversionWarning: A column-vector y was passed when a 1d array was expected. Please change the shape of y to (n_samples,), for example using ravel().\n",
      "  estimator.fit(X_train, y_train, **fit_params)\n"
     ]
    },
    {
     "name": "stdout",
     "output_type": "stream",
     "text": [
      "Acurácia nos k-folds: [0.99150066 0.99176627 0.99070385 0.98831341 0.99150066]\n",
      "Média: 0.99 | Desvio: 0.0013\n"
     ]
    }
   ],
   "source": [
    "validacao_cruzada_modelo(modeloRF, X_trainRF, y_trainRF)"
   ]
  },
  {
   "cell_type": "markdown",
   "id": "variable-bermuda",
   "metadata": {},
   "source": [
    "### Algoritmo Decision Tree    "
   ]
  },
  {
   "cell_type": "code",
   "execution_count": 37,
   "id": "silver-bibliography",
   "metadata": {},
   "outputs": [
    {
     "name": "stdout",
     "output_type": "stream",
     "text": [
      "Acurácia nos k-folds: [0.99176627 0.99096946 0.99468792 0.99096946 0.9938911 ]\n",
      "Média: 0.99 | Desvio: 0.0015\n"
     ]
    }
   ],
   "source": [
    "validacao_cruzada_modelo(modeloDT, X_trainDT, y_trainDT)"
   ]
  },
  {
   "cell_type": "markdown",
   "id": "expired-landing",
   "metadata": {},
   "source": [
    "### Algoritmo SVM"
   ]
  },
  {
   "cell_type": "code",
   "execution_count": 38,
   "id": "advance-monster",
   "metadata": {},
   "outputs": [
    {
     "name": "stdout",
     "output_type": "stream",
     "text": [
      "Acurácia nos k-folds: [0.95962815 0.96812749 0.9564409  0.96440903 0.95776892]\n",
      "Média: 0.96 | Desvio: 0.0044\n"
     ]
    }
   ],
   "source": [
    "validacao_cruzada_modelo(modeloSVM, X_trainSVM, y_trainSVM)"
   ]
  },
  {
   "cell_type": "markdown",
   "id": "devoted-feedback",
   "metadata": {},
   "source": [
    "# Avaliação do Modelo"
   ]
  },
  {
   "cell_type": "markdown",
   "id": "concerned-exhibit",
   "metadata": {},
   "source": [
    "### Acuracia"
   ]
  },
  {
   "cell_type": "code",
   "execution_count": 39,
   "id": "tracked-finder",
   "metadata": {},
   "outputs": [
    {
     "name": "stdout",
     "output_type": "stream",
     "text": [
      "Acuracia para o algoritmo XGB é: 99.34%\n",
      "Acuracia para o algoritmo Random Forest é: 99.17%\n",
      "Acuracia para o algoritmo Decison Tree é: 99.30%\n",
      "Acuracia para o algoritmo SVM é: 96.49%\n"
     ]
    }
   ],
   "source": [
    "print(\"Acuracia para o algoritmo XGB é: %.2f%%\" % (accuracy_score(y_testXGB, y_predXGB) * 100))\n",
    "print(\"Acuracia para o algoritmo Random Forest é: %.2f%%\" % (accuracy_score(y_testRF, y_predRF) * 100))\n",
    "print(\"Acuracia para o algoritmo Decison Tree é: %.2f%%\" % (accuracy_score(y_testDT, y_predDT) * 100))\n",
    "print(\"Acuracia para o algoritmo SVM é: %.2f%%\" % (accuracy_score(y_testSVM, y_predSVM) * 100))"
   ]
  },
  {
   "cell_type": "markdown",
   "id": "sunrise-terry",
   "metadata": {},
   "source": [
    "### Matriz de Confusão"
   ]
  },
  {
   "cell_type": "code",
   "execution_count": 40,
   "id": "manual-northern",
   "metadata": {},
   "outputs": [
    {
     "name": "stdout",
     "output_type": "stream",
     "text": [
      "Matriz de Confusão Algoritmo XGB: \n",
      " [[2635    9]\n",
      " [  22 2041]] \n",
      "\n",
      "Matriz de Confusão Algoritmo Random Forest: \n",
      " [[2634   10]\n",
      " [  29 2034]] \n",
      "\n",
      "Matriz de Confusão Algoritmo Decison Tree: \n",
      " [[2636    8]\n",
      " [  25 2038]] \n",
      "\n",
      "Matriz de Confusão Algoritmo SVM: \n",
      " [[2543  101]\n",
      " [  64 1999]] \n",
      "\n"
     ]
    }
   ],
   "source": [
    "print('Matriz de Confusão Algoritmo XGB: \\n', confusion_matrix(y_testXGB, y_predXGB), '\\n')\n",
    "print('Matriz de Confusão Algoritmo Random Forest: \\n', confusion_matrix(y_testRF, y_predRF), '\\n')\n",
    "print('Matriz de Confusão Algoritmo Decison Tree: \\n', confusion_matrix(y_testDT, y_predDT), '\\n')\n",
    "print('Matriz de Confusão Algoritmo SVM: \\n', confusion_matrix(y_testSVM, y_predSVM), '\\n')"
   ]
  },
  {
   "cell_type": "markdown",
   "id": "basic-sleeping",
   "metadata": {},
   "source": [
    "### Precisão"
   ]
  },
  {
   "cell_type": "code",
   "execution_count": 41,
   "id": "coordinated-standard",
   "metadata": {},
   "outputs": [
    {
     "name": "stdout",
     "output_type": "stream",
     "text": [
      "Precisão para o algoritmo XGB é: 99.56%\n",
      "Precisão para o algoritmo Random Forest é: 99.51%\n",
      "Precisão para o algoritmo Decison Tree é: 99.61%\n",
      "Precisão para o algoritmo SVM é: 95.19%\n"
     ]
    }
   ],
   "source": [
    "print(\"Precisão para o algoritmo XGB é: %.2f%%\" % (precision_score(y_testXGB, y_predXGB) * 100))\n",
    "print(\"Precisão para o algoritmo Random Forest é: %.2f%%\" % (precision_score(y_testRF, y_predRF) * 100))\n",
    "print(\"Precisão para o algoritmo Decison Tree é: %.2f%%\" % (precision_score(y_testDT, y_predDT) * 100))\n",
    "print(\"Precisão para o algoritmo SVM é: %.2f%%\" % (precision_score(y_testSVM, y_predSVM) * 100))"
   ]
  },
  {
   "cell_type": "markdown",
   "id": "deluxe-listing",
   "metadata": {},
   "source": [
    "### Recall"
   ]
  },
  {
   "cell_type": "code",
   "execution_count": 42,
   "id": "interpreted-snapshot",
   "metadata": {},
   "outputs": [
    {
     "name": "stdout",
     "output_type": "stream",
     "text": [
      "Recall para o algoritmo XGB é: 98.93%\n",
      "Recall para o algoritmo Random Forest é: 98.59%\n",
      "Recall para o algoritmo Decison Tree é: 98.79%\n",
      "Recall para o algoritmo SVM é: 96.90%\n"
     ]
    }
   ],
   "source": [
    "print(\"Recall para o algoritmo XGB é: %.2f%%\" % (recall_score(y_testXGB, y_predXGB) * 100))\n",
    "print(\"Recall para o algoritmo Random Forest é: %.2f%%\" % (recall_score(y_testRF, y_predRF) * 100))\n",
    "print(\"Recall para o algoritmo Decison Tree é: %.2f%%\" % (recall_score(y_testDT, y_predDT) * 100))\n",
    "print(\"Recall para o algoritmo SVM é: %.2f%%\" % (recall_score(y_testSVM, y_predSVM) * 100))"
   ]
  },
  {
   "cell_type": "markdown",
   "id": "metropolitan-marble",
   "metadata": {},
   "source": [
    "### F1 Score"
   ]
  },
  {
   "cell_type": "code",
   "execution_count": 43,
   "id": "handmade-market",
   "metadata": {},
   "outputs": [
    {
     "name": "stdout",
     "output_type": "stream",
     "text": [
      "F1 Score para o algoritmo XGB é: 99.25%\n",
      "F1 Score para o algoritmo Random Forest é: 99.05%\n",
      "F1 Score para o algoritmo Decison Tree é: 99.20%\n",
      "F1 Score para o algoritmo SVM é: 96.04%\n"
     ]
    }
   ],
   "source": [
    "print(\"F1 Score para o algoritmo XGB é: %.2f%%\" % (f1_score(y_testXGB, y_predXGB) * 100))\n",
    "print(\"F1 Score para o algoritmo Random Forest é: %.2f%%\" % (f1_score(y_testRF, y_predRF) * 100))\n",
    "print(\"F1 Score para o algoritmo Decison Tree é: %.2f%%\" % (f1_score(y_testDT, y_predDT) * 100))\n",
    "print(\"F1 Score para o algoritmo SVM é: %.2f%%\" % (f1_score(y_testSVM, y_predSVM) * 100))"
   ]
  },
  {
   "cell_type": "markdown",
   "id": "biblical-joint",
   "metadata": {},
   "source": [
    "### Curva AUC-ROC"
   ]
  },
  {
   "cell_type": "code",
   "execution_count": 44,
   "id": "experienced-value",
   "metadata": {},
   "outputs": [
    {
     "name": "stdout",
     "output_type": "stream",
     "text": [
      "Curva AUC-ROC para o algoritmo XGB é: 99.30%\n",
      "Curva AUC-ROC para o algoritmo Random Forest é: 99.11%\n",
      "Curva AUC-ROC para o algoritmo Decision Tree é: 99.24%\n",
      "Curva AUC-ROC para o algoritmo SVM é: 96.54%\n"
     ]
    }
   ],
   "source": [
    "fprXGB, tprXGB, thresholdXGB = roc_curve(y_testXGB, y_predXGB)\n",
    "roc_aucXGB = auc(fprXGB, tprXGB)\n",
    "print(\"Curva AUC-ROC para o algoritmo XGB é: %.2f%%\" % (roc_aucXGB * 100))\n",
    "\n",
    "fprRF, tprRF, thresholdRF = roc_curve(y_testRF, y_predRF)\n",
    "roc_aucRF = auc(fprRF, tprRF)\n",
    "print(\"Curva AUC-ROC para o algoritmo Random Forest é: %.2f%%\" % (roc_aucRF * 100))\n",
    "\n",
    "fprDT, tprDT, thresholdDT = roc_curve(y_testDT, y_predDT)\n",
    "roc_aucDT = auc(fprDT, tprDT)\n",
    "print(\"Curva AUC-ROC para o algoritmo Decision Tree é: %.2f%%\" % (roc_aucDT * 100))\n",
    "\n",
    "fprSVM, tprSVM, thresholdSVM = roc_curve(y_testSVM, y_predSVM)\n",
    "roc_aucSVM = auc(fprSVM, tprSVM)\n",
    "print(\"Curva AUC-ROC para o algoritmo SVM é: %.2f%%\" % (roc_aucSVM * 100))"
   ]
  },
  {
   "cell_type": "code",
   "execution_count": null,
   "id": "spectacular-national",
   "metadata": {},
   "outputs": [],
   "source": []
  },
  {
   "cell_type": "code",
   "execution_count": null,
   "id": "indirect-region",
   "metadata": {},
   "outputs": [],
   "source": []
  },
  {
   "cell_type": "code",
   "execution_count": null,
   "id": "binary-identification",
   "metadata": {},
   "outputs": [],
   "source": [
    "#metricas\n",
    "#https://medium.com/analytics-vidhya/evaluation-metrics-for-classification-problems-with-implementation-in-python-a20193b4f2c3"
   ]
  }
 ],
 "metadata": {
  "kernelspec": {
   "display_name": "Python 3",
   "language": "python",
   "name": "python3"
  },
  "language_info": {
   "codemirror_mode": {
    "name": "ipython",
    "version": 3
   },
   "file_extension": ".py",
   "mimetype": "text/x-python",
   "name": "python",
   "nbconvert_exporter": "python",
   "pygments_lexer": "ipython3",
   "version": "3.8.6"
  }
 },
 "nbformat": 4,
 "nbformat_minor": 5
}
