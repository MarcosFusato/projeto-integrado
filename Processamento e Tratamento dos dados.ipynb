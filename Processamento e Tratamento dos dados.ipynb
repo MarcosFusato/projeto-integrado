{
 "cells": [
  {
   "cell_type": "markdown",
   "id": "native-arrest",
   "metadata": {},
   "source": [
    "# Informações sobre a base de dados\n",
    "\n",
    "* Nome do dataset: adult.csv\n",
    "\n",
    "* Descrição: O nome da base de dados é adult.csv onde será realizada a classificação se determinado individuo recebe \n",
    "    <=50K ou >50K, ou seja será realizada a Avaliação de Rendas\n",
    "\n",
    "* Link fonte de dados: https://www.kaggle.com/uciml/adult-census-income?select=adult.csv"
   ]
  },
  {
   "cell_type": "markdown",
   "id": "satisfactory-omega",
   "metadata": {},
   "source": [
    "# Dicionario de dados com o nome de cada campo e os tipos dos dados\n",
    "* age: continuous.\n",
    "* workclass: Private, Self-emp-not-inc, Self-emp-inc, Federal-gov, Local-gov, State-gov, Without-pay, Never-worked.\n",
    "* fnlwgt: continuous.\n",
    "* education: Bachelors, Some-college, 11th, HS-grad, Prof-school, Assoc-acdm, Assoc-voc, 9th, 7th-8th, 12th, Masters, 1st-4th, 10th, Doctorate, 5th-6th, Preschool.\n",
    "* education-num: continuous.\n",
    "* marital-status: Married-civ-spouse, Divorced, Never-married, Separated, Widowed, Married-spouse-absent, Married-AF-spouse.\n",
    "* occupation: Tech-support, Craft-repair, Other-service, Sales, Exec-managerial, Prof-specialty, Handlers-cleaners, Machine-op-inspct, Adm-clerical, Farming-fishing, Transport-moving, Priv-house-serv, Protective-serv, Armed-Forces.\n",
    "* relationship: Wife, Own-child, Husband, Not-in-family, Other-relative, Unmarried.\n",
    "* race: White, Asian-Pac-Islander, Amer-Indian-Eskimo, Other, Black.\n",
    "* sex: Female, Male.\n",
    "* capital-gain: continuous.\n",
    "* capital-loss: continuous.\n",
    "* hours-per-week: continuous.\n",
    "* native-country: United-States, Cambodia, England, Puerto-Rico, Canada, Germany, Outlying-US(Guam-USVI-etc), India, Japan, Greece, South, China, Cuba, Iran, Honduras, Philippines, Italy, Poland, Jamaica, Vietnam, Mexico, Portugal, Ireland, France, Dominican-Republic, Laos, Ecuador, Taiwan, Haiti, Columbia, Hungary, Guatemala, Nicaragua, Scotland, Thailand, Yugoslavia, El-Salvador, Trinadad&Tobago, Peru, Hong, Holand-Netherlands."
   ]
  },
  {
   "cell_type": "markdown",
   "id": "positive-discipline",
   "metadata": {},
   "source": [
    "## Importando as bibliotecas"
   ]
  },
  {
   "cell_type": "code",
   "execution_count": 1,
   "id": "twenty-plastic",
   "metadata": {},
   "outputs": [],
   "source": [
    "import pandas as pd\n",
    "import numpy as np\n",
    "import matplotlib.pyplot as plt\n",
    "import seaborn as sns\n",
    "%matplotlib inline"
   ]
  },
  {
   "cell_type": "markdown",
   "id": "honest-disposal",
   "metadata": {},
   "source": [
    "## Importando as bases de dados"
   ]
  },
  {
   "cell_type": "code",
   "execution_count": 2,
   "id": "painful-forwarding",
   "metadata": {},
   "outputs": [],
   "source": [
    "renda = pd.read_csv(\"base/adult.csv\")"
   ]
  },
  {
   "cell_type": "markdown",
   "id": "valid-miniature",
   "metadata": {},
   "source": [
    "## Exibindo os dados do data set"
   ]
  },
  {
   "cell_type": "code",
   "execution_count": 3,
   "id": "external-fiber",
   "metadata": {},
   "outputs": [
    {
     "data": {
      "text/html": [
       "<div>\n",
       "<style scoped>\n",
       "    .dataframe tbody tr th:only-of-type {\n",
       "        vertical-align: middle;\n",
       "    }\n",
       "\n",
       "    .dataframe tbody tr th {\n",
       "        vertical-align: top;\n",
       "    }\n",
       "\n",
       "    .dataframe thead th {\n",
       "        text-align: right;\n",
       "    }\n",
       "</style>\n",
       "<table border=\"1\" class=\"dataframe\">\n",
       "  <thead>\n",
       "    <tr style=\"text-align: right;\">\n",
       "      <th></th>\n",
       "      <th>age</th>\n",
       "      <th>workclass</th>\n",
       "      <th>fnlwgt</th>\n",
       "      <th>education</th>\n",
       "      <th>education.num</th>\n",
       "      <th>marital.status</th>\n",
       "      <th>occupation</th>\n",
       "      <th>relationship</th>\n",
       "      <th>race</th>\n",
       "      <th>sex</th>\n",
       "      <th>capital.gain</th>\n",
       "      <th>capital.loss</th>\n",
       "      <th>hours.per.week</th>\n",
       "      <th>native.country</th>\n",
       "      <th>income</th>\n",
       "    </tr>\n",
       "  </thead>\n",
       "  <tbody>\n",
       "    <tr>\n",
       "      <th>0</th>\n",
       "      <td>90</td>\n",
       "      <td>?</td>\n",
       "      <td>77053</td>\n",
       "      <td>HS-grad</td>\n",
       "      <td>9</td>\n",
       "      <td>Widowed</td>\n",
       "      <td>?</td>\n",
       "      <td>Not-in-family</td>\n",
       "      <td>White</td>\n",
       "      <td>Female</td>\n",
       "      <td>0</td>\n",
       "      <td>4356</td>\n",
       "      <td>40</td>\n",
       "      <td>United-States</td>\n",
       "      <td>&lt;=50K</td>\n",
       "    </tr>\n",
       "    <tr>\n",
       "      <th>1</th>\n",
       "      <td>82</td>\n",
       "      <td>Private</td>\n",
       "      <td>132870</td>\n",
       "      <td>HS-grad</td>\n",
       "      <td>9</td>\n",
       "      <td>Widowed</td>\n",
       "      <td>Exec-managerial</td>\n",
       "      <td>Not-in-family</td>\n",
       "      <td>White</td>\n",
       "      <td>Female</td>\n",
       "      <td>0</td>\n",
       "      <td>4356</td>\n",
       "      <td>18</td>\n",
       "      <td>United-States</td>\n",
       "      <td>&lt;=50K</td>\n",
       "    </tr>\n",
       "    <tr>\n",
       "      <th>2</th>\n",
       "      <td>66</td>\n",
       "      <td>?</td>\n",
       "      <td>186061</td>\n",
       "      <td>Some-college</td>\n",
       "      <td>10</td>\n",
       "      <td>Widowed</td>\n",
       "      <td>?</td>\n",
       "      <td>Unmarried</td>\n",
       "      <td>Black</td>\n",
       "      <td>Female</td>\n",
       "      <td>0</td>\n",
       "      <td>4356</td>\n",
       "      <td>40</td>\n",
       "      <td>United-States</td>\n",
       "      <td>&lt;=50K</td>\n",
       "    </tr>\n",
       "    <tr>\n",
       "      <th>3</th>\n",
       "      <td>54</td>\n",
       "      <td>Private</td>\n",
       "      <td>140359</td>\n",
       "      <td>7th-8th</td>\n",
       "      <td>4</td>\n",
       "      <td>Divorced</td>\n",
       "      <td>Machine-op-inspct</td>\n",
       "      <td>Unmarried</td>\n",
       "      <td>White</td>\n",
       "      <td>Female</td>\n",
       "      <td>0</td>\n",
       "      <td>3900</td>\n",
       "      <td>40</td>\n",
       "      <td>United-States</td>\n",
       "      <td>&lt;=50K</td>\n",
       "    </tr>\n",
       "    <tr>\n",
       "      <th>4</th>\n",
       "      <td>41</td>\n",
       "      <td>Private</td>\n",
       "      <td>264663</td>\n",
       "      <td>Some-college</td>\n",
       "      <td>10</td>\n",
       "      <td>Separated</td>\n",
       "      <td>Prof-specialty</td>\n",
       "      <td>Own-child</td>\n",
       "      <td>White</td>\n",
       "      <td>Female</td>\n",
       "      <td>0</td>\n",
       "      <td>3900</td>\n",
       "      <td>40</td>\n",
       "      <td>United-States</td>\n",
       "      <td>&lt;=50K</td>\n",
       "    </tr>\n",
       "  </tbody>\n",
       "</table>\n",
       "</div>"
      ],
      "text/plain": [
       "   age workclass  fnlwgt     education  education.num marital.status  \\\n",
       "0   90         ?   77053       HS-grad              9        Widowed   \n",
       "1   82   Private  132870       HS-grad              9        Widowed   \n",
       "2   66         ?  186061  Some-college             10        Widowed   \n",
       "3   54   Private  140359       7th-8th              4       Divorced   \n",
       "4   41   Private  264663  Some-college             10      Separated   \n",
       "\n",
       "          occupation   relationship   race     sex  capital.gain  \\\n",
       "0                  ?  Not-in-family  White  Female             0   \n",
       "1    Exec-managerial  Not-in-family  White  Female             0   \n",
       "2                  ?      Unmarried  Black  Female             0   \n",
       "3  Machine-op-inspct      Unmarried  White  Female             0   \n",
       "4     Prof-specialty      Own-child  White  Female             0   \n",
       "\n",
       "   capital.loss  hours.per.week native.country income  \n",
       "0          4356              40  United-States  <=50K  \n",
       "1          4356              18  United-States  <=50K  \n",
       "2          4356              40  United-States  <=50K  \n",
       "3          3900              40  United-States  <=50K  \n",
       "4          3900              40  United-States  <=50K  "
      ]
     },
     "execution_count": 3,
     "metadata": {},
     "output_type": "execute_result"
    }
   ],
   "source": [
    "renda.head()"
   ]
  },
  {
   "cell_type": "markdown",
   "id": "rotary-israeli",
   "metadata": {},
   "source": [
    "## Listando o nome da colunas do dataset renda"
   ]
  },
  {
   "cell_type": "code",
   "execution_count": 4,
   "id": "thousand-possibility",
   "metadata": {},
   "outputs": [
    {
     "data": {
      "text/plain": [
       "Index(['age', 'workclass', 'fnlwgt', 'education', 'education.num',\n",
       "       'marital.status', 'occupation', 'relationship', 'race', 'sex',\n",
       "       'capital.gain', 'capital.loss', 'hours.per.week', 'native.country',\n",
       "       'income'],\n",
       "      dtype='object')"
      ]
     },
     "execution_count": 4,
     "metadata": {},
     "output_type": "execute_result"
    }
   ],
   "source": [
    "renda.columns"
   ]
  },
  {
   "cell_type": "markdown",
   "id": "realistic-movement",
   "metadata": {},
   "source": [
    "## Renomeando as colunas\n",
    "* As colunas do dataset serão Renomeadas para facilitar a analise e processamento dos dados"
   ]
  },
  {
   "cell_type": "code",
   "execution_count": 5,
   "id": "secondary-howard",
   "metadata": {},
   "outputs": [],
   "source": [
    "def renomear_colunas (data):\n",
    "    \n",
    "    # Cria um dicionario com o nome das colunas\n",
    "    dic_colunas = {'age':'Idade', 'workclass':'Classe Trabalho', 'fnlwgt':'Peso Final', 'education':'Educacao', \n",
    "                   'education.num':'Num Educacao', 'marital.status':'Estado Civil','occupation':'Ocupacao',\n",
    "                   'relationship':'Relacao', 'race':'Raca', 'sex':'Sexo', 'capital.gain':'Ganho Capital',\n",
    "                   'capital.loss':'Perda Capital', 'hours.per.week':'Horas Semana', 'native.country': 'Pais Nativo',\n",
    "                   'income': 'Renda'}\n",
    "    print('dic_colunas: ', dic_colunas)\n",
    "    \n",
    "    #Renomeando as colunas baseado no dicionario\n",
    "    data.rename(dic_colunas, axis=1, inplace=True) \n",
    "    \n",
    "    return data"
   ]
  },
  {
   "cell_type": "code",
   "execution_count": 6,
   "id": "vanilla-moral",
   "metadata": {},
   "outputs": [
    {
     "name": "stdout",
     "output_type": "stream",
     "text": [
      "dic_colunas:  {'age': 'Idade', 'workclass': 'Classe Trabalho', 'fnlwgt': 'Peso Final', 'education': 'Educacao', 'education.num': 'Num Educacao', 'marital.status': 'Estado Civil', 'occupation': 'Ocupacao', 'relationship': 'Relacao', 'race': 'Raca', 'sex': 'Sexo', 'capital.gain': 'Ganho Capital', 'capital.loss': 'Perda Capital', 'hours.per.week': 'Horas Semana', 'native.country': 'Pais Nativo', 'income': 'Renda'}\n"
     ]
    }
   ],
   "source": [
    "renda = renomear_colunas(renda)"
   ]
  },
  {
   "cell_type": "markdown",
   "id": "affected-newman",
   "metadata": {},
   "source": [
    "## Exibe o data set com as colunas renomeadas"
   ]
  },
  {
   "cell_type": "code",
   "execution_count": 7,
   "id": "subjective-poverty",
   "metadata": {},
   "outputs": [
    {
     "data": {
      "text/html": [
       "<div>\n",
       "<style scoped>\n",
       "    .dataframe tbody tr th:only-of-type {\n",
       "        vertical-align: middle;\n",
       "    }\n",
       "\n",
       "    .dataframe tbody tr th {\n",
       "        vertical-align: top;\n",
       "    }\n",
       "\n",
       "    .dataframe thead th {\n",
       "        text-align: right;\n",
       "    }\n",
       "</style>\n",
       "<table border=\"1\" class=\"dataframe\">\n",
       "  <thead>\n",
       "    <tr style=\"text-align: right;\">\n",
       "      <th></th>\n",
       "      <th>Idade</th>\n",
       "      <th>Classe Trabalho</th>\n",
       "      <th>Peso Final</th>\n",
       "      <th>Educacao</th>\n",
       "      <th>Num Educacao</th>\n",
       "      <th>Estado Civil</th>\n",
       "      <th>Ocupacao</th>\n",
       "      <th>Relacao</th>\n",
       "      <th>Raca</th>\n",
       "      <th>Sexo</th>\n",
       "      <th>Ganho Capital</th>\n",
       "      <th>Perda Capital</th>\n",
       "      <th>Horas Semana</th>\n",
       "      <th>Pais Nativo</th>\n",
       "      <th>Renda</th>\n",
       "    </tr>\n",
       "  </thead>\n",
       "  <tbody>\n",
       "    <tr>\n",
       "      <th>0</th>\n",
       "      <td>90</td>\n",
       "      <td>?</td>\n",
       "      <td>77053</td>\n",
       "      <td>HS-grad</td>\n",
       "      <td>9</td>\n",
       "      <td>Widowed</td>\n",
       "      <td>?</td>\n",
       "      <td>Not-in-family</td>\n",
       "      <td>White</td>\n",
       "      <td>Female</td>\n",
       "      <td>0</td>\n",
       "      <td>4356</td>\n",
       "      <td>40</td>\n",
       "      <td>United-States</td>\n",
       "      <td>&lt;=50K</td>\n",
       "    </tr>\n",
       "    <tr>\n",
       "      <th>1</th>\n",
       "      <td>82</td>\n",
       "      <td>Private</td>\n",
       "      <td>132870</td>\n",
       "      <td>HS-grad</td>\n",
       "      <td>9</td>\n",
       "      <td>Widowed</td>\n",
       "      <td>Exec-managerial</td>\n",
       "      <td>Not-in-family</td>\n",
       "      <td>White</td>\n",
       "      <td>Female</td>\n",
       "      <td>0</td>\n",
       "      <td>4356</td>\n",
       "      <td>18</td>\n",
       "      <td>United-States</td>\n",
       "      <td>&lt;=50K</td>\n",
       "    </tr>\n",
       "    <tr>\n",
       "      <th>2</th>\n",
       "      <td>66</td>\n",
       "      <td>?</td>\n",
       "      <td>186061</td>\n",
       "      <td>Some-college</td>\n",
       "      <td>10</td>\n",
       "      <td>Widowed</td>\n",
       "      <td>?</td>\n",
       "      <td>Unmarried</td>\n",
       "      <td>Black</td>\n",
       "      <td>Female</td>\n",
       "      <td>0</td>\n",
       "      <td>4356</td>\n",
       "      <td>40</td>\n",
       "      <td>United-States</td>\n",
       "      <td>&lt;=50K</td>\n",
       "    </tr>\n",
       "    <tr>\n",
       "      <th>3</th>\n",
       "      <td>54</td>\n",
       "      <td>Private</td>\n",
       "      <td>140359</td>\n",
       "      <td>7th-8th</td>\n",
       "      <td>4</td>\n",
       "      <td>Divorced</td>\n",
       "      <td>Machine-op-inspct</td>\n",
       "      <td>Unmarried</td>\n",
       "      <td>White</td>\n",
       "      <td>Female</td>\n",
       "      <td>0</td>\n",
       "      <td>3900</td>\n",
       "      <td>40</td>\n",
       "      <td>United-States</td>\n",
       "      <td>&lt;=50K</td>\n",
       "    </tr>\n",
       "    <tr>\n",
       "      <th>4</th>\n",
       "      <td>41</td>\n",
       "      <td>Private</td>\n",
       "      <td>264663</td>\n",
       "      <td>Some-college</td>\n",
       "      <td>10</td>\n",
       "      <td>Separated</td>\n",
       "      <td>Prof-specialty</td>\n",
       "      <td>Own-child</td>\n",
       "      <td>White</td>\n",
       "      <td>Female</td>\n",
       "      <td>0</td>\n",
       "      <td>3900</td>\n",
       "      <td>40</td>\n",
       "      <td>United-States</td>\n",
       "      <td>&lt;=50K</td>\n",
       "    </tr>\n",
       "  </tbody>\n",
       "</table>\n",
       "</div>"
      ],
      "text/plain": [
       "   Idade Classe Trabalho  Peso Final      Educacao  Num Educacao Estado Civil  \\\n",
       "0     90               ?       77053       HS-grad             9      Widowed   \n",
       "1     82         Private      132870       HS-grad             9      Widowed   \n",
       "2     66               ?      186061  Some-college            10      Widowed   \n",
       "3     54         Private      140359       7th-8th             4     Divorced   \n",
       "4     41         Private      264663  Some-college            10    Separated   \n",
       "\n",
       "            Ocupacao        Relacao   Raca    Sexo  Ganho Capital  \\\n",
       "0                  ?  Not-in-family  White  Female              0   \n",
       "1    Exec-managerial  Not-in-family  White  Female              0   \n",
       "2                  ?      Unmarried  Black  Female              0   \n",
       "3  Machine-op-inspct      Unmarried  White  Female              0   \n",
       "4     Prof-specialty      Own-child  White  Female              0   \n",
       "\n",
       "   Perda Capital  Horas Semana    Pais Nativo  Renda  \n",
       "0           4356            40  United-States  <=50K  \n",
       "1           4356            18  United-States  <=50K  \n",
       "2           4356            40  United-States  <=50K  \n",
       "3           3900            40  United-States  <=50K  \n",
       "4           3900            40  United-States  <=50K  "
      ]
     },
     "execution_count": 7,
     "metadata": {},
     "output_type": "execute_result"
    }
   ],
   "source": [
    "renda.head()"
   ]
  },
  {
   "cell_type": "markdown",
   "id": "earlier-citation",
   "metadata": {},
   "source": [
    "## Dimensão do data set"
   ]
  },
  {
   "cell_type": "code",
   "execution_count": 8,
   "id": "suffering-jesus",
   "metadata": {},
   "outputs": [
    {
     "data": {
      "text/plain": [
       "(32561, 15)"
      ]
     },
     "execution_count": 8,
     "metadata": {},
     "output_type": "execute_result"
    }
   ],
   "source": [
    "renda.shape"
   ]
  },
  {
   "cell_type": "markdown",
   "id": "electronic-restriction",
   "metadata": {},
   "source": [
    "## Dados Estatisticos"
   ]
  },
  {
   "cell_type": "code",
   "execution_count": 9,
   "id": "elder-titanium",
   "metadata": {},
   "outputs": [
    {
     "data": {
      "text/html": [
       "<div>\n",
       "<style scoped>\n",
       "    .dataframe tbody tr th:only-of-type {\n",
       "        vertical-align: middle;\n",
       "    }\n",
       "\n",
       "    .dataframe tbody tr th {\n",
       "        vertical-align: top;\n",
       "    }\n",
       "\n",
       "    .dataframe thead th {\n",
       "        text-align: right;\n",
       "    }\n",
       "</style>\n",
       "<table border=\"1\" class=\"dataframe\">\n",
       "  <thead>\n",
       "    <tr style=\"text-align: right;\">\n",
       "      <th></th>\n",
       "      <th>Idade</th>\n",
       "      <th>Peso Final</th>\n",
       "      <th>Num Educacao</th>\n",
       "      <th>Ganho Capital</th>\n",
       "      <th>Perda Capital</th>\n",
       "      <th>Horas Semana</th>\n",
       "    </tr>\n",
       "  </thead>\n",
       "  <tbody>\n",
       "    <tr>\n",
       "      <th>count</th>\n",
       "      <td>32561.000000</td>\n",
       "      <td>3.256100e+04</td>\n",
       "      <td>32561.000000</td>\n",
       "      <td>32561.000000</td>\n",
       "      <td>32561.000000</td>\n",
       "      <td>32561.000000</td>\n",
       "    </tr>\n",
       "    <tr>\n",
       "      <th>mean</th>\n",
       "      <td>38.581647</td>\n",
       "      <td>1.897784e+05</td>\n",
       "      <td>10.080679</td>\n",
       "      <td>1077.648844</td>\n",
       "      <td>87.303830</td>\n",
       "      <td>40.437456</td>\n",
       "    </tr>\n",
       "    <tr>\n",
       "      <th>std</th>\n",
       "      <td>13.640433</td>\n",
       "      <td>1.055500e+05</td>\n",
       "      <td>2.572720</td>\n",
       "      <td>7385.292085</td>\n",
       "      <td>402.960219</td>\n",
       "      <td>12.347429</td>\n",
       "    </tr>\n",
       "    <tr>\n",
       "      <th>min</th>\n",
       "      <td>17.000000</td>\n",
       "      <td>1.228500e+04</td>\n",
       "      <td>1.000000</td>\n",
       "      <td>0.000000</td>\n",
       "      <td>0.000000</td>\n",
       "      <td>1.000000</td>\n",
       "    </tr>\n",
       "    <tr>\n",
       "      <th>25%</th>\n",
       "      <td>28.000000</td>\n",
       "      <td>1.178270e+05</td>\n",
       "      <td>9.000000</td>\n",
       "      <td>0.000000</td>\n",
       "      <td>0.000000</td>\n",
       "      <td>40.000000</td>\n",
       "    </tr>\n",
       "    <tr>\n",
       "      <th>50%</th>\n",
       "      <td>37.000000</td>\n",
       "      <td>1.783560e+05</td>\n",
       "      <td>10.000000</td>\n",
       "      <td>0.000000</td>\n",
       "      <td>0.000000</td>\n",
       "      <td>40.000000</td>\n",
       "    </tr>\n",
       "    <tr>\n",
       "      <th>75%</th>\n",
       "      <td>48.000000</td>\n",
       "      <td>2.370510e+05</td>\n",
       "      <td>12.000000</td>\n",
       "      <td>0.000000</td>\n",
       "      <td>0.000000</td>\n",
       "      <td>45.000000</td>\n",
       "    </tr>\n",
       "    <tr>\n",
       "      <th>max</th>\n",
       "      <td>90.000000</td>\n",
       "      <td>1.484705e+06</td>\n",
       "      <td>16.000000</td>\n",
       "      <td>99999.000000</td>\n",
       "      <td>4356.000000</td>\n",
       "      <td>99.000000</td>\n",
       "    </tr>\n",
       "  </tbody>\n",
       "</table>\n",
       "</div>"
      ],
      "text/plain": [
       "              Idade    Peso Final  Num Educacao  Ganho Capital  Perda Capital  \\\n",
       "count  32561.000000  3.256100e+04  32561.000000   32561.000000   32561.000000   \n",
       "mean      38.581647  1.897784e+05     10.080679    1077.648844      87.303830   \n",
       "std       13.640433  1.055500e+05      2.572720    7385.292085     402.960219   \n",
       "min       17.000000  1.228500e+04      1.000000       0.000000       0.000000   \n",
       "25%       28.000000  1.178270e+05      9.000000       0.000000       0.000000   \n",
       "50%       37.000000  1.783560e+05     10.000000       0.000000       0.000000   \n",
       "75%       48.000000  2.370510e+05     12.000000       0.000000       0.000000   \n",
       "max       90.000000  1.484705e+06     16.000000   99999.000000    4356.000000   \n",
       "\n",
       "       Horas Semana  \n",
       "count  32561.000000  \n",
       "mean      40.437456  \n",
       "std       12.347429  \n",
       "min        1.000000  \n",
       "25%       40.000000  \n",
       "50%       40.000000  \n",
       "75%       45.000000  \n",
       "max       99.000000  "
      ]
     },
     "execution_count": 9,
     "metadata": {},
     "output_type": "execute_result"
    }
   ],
   "source": [
    "renda.describe()"
   ]
  },
  {
   "cell_type": "markdown",
   "id": "spare-standing",
   "metadata": {},
   "source": [
    "## Verificando o tipos dos dados do data set"
   ]
  },
  {
   "cell_type": "code",
   "execution_count": 10,
   "id": "vertical-beast",
   "metadata": {},
   "outputs": [
    {
     "data": {
      "text/plain": [
       "Idade               int64\n",
       "Classe Trabalho    object\n",
       "Peso Final          int64\n",
       "Educacao           object\n",
       "Num Educacao        int64\n",
       "Estado Civil       object\n",
       "Ocupacao           object\n",
       "Relacao            object\n",
       "Raca               object\n",
       "Sexo               object\n",
       "Ganho Capital       int64\n",
       "Perda Capital       int64\n",
       "Horas Semana        int64\n",
       "Pais Nativo        object\n",
       "Renda              object\n",
       "dtype: object"
      ]
     },
     "execution_count": 10,
     "metadata": {},
     "output_type": "execute_result"
    }
   ],
   "source": [
    "renda.dtypes"
   ]
  },
  {
   "cell_type": "markdown",
   "id": "conservative-blowing",
   "metadata": {},
   "source": [
    "# Processamento e Tratamento dos dados"
   ]
  },
  {
   "cell_type": "markdown",
   "id": "fitted-powell",
   "metadata": {},
   "source": [
    "## Substituindo os espaços em branco por Nan"
   ]
  },
  {
   "cell_type": "markdown",
   "id": "prepared-siemens",
   "metadata": {},
   "source": [
    "* Faz se necessário o código abaixo porque na base, os dados ausentes estão com interrogação(?), e o comando isnull().sum() não\n",
    "consegue fazer a contagem, então executamos o código abaixo para substituir os \"?\" por nan"
   ]
  },
  {
   "cell_type": "code",
   "execution_count": 11,
   "id": "quantitative-acting",
   "metadata": {},
   "outputs": [],
   "source": [
    "def tratamento_espaco_branco (data):    \n",
    "    #Elimina os espaços em branco e mantem apenas \"?\"\n",
    "    data = data.apply(lambda x: x.str.strip() if x.dtype == \"object\" else x)\n",
    "    \n",
    "    #Substitui a \"?\" por np.nan\n",
    "    data = data.replace(\"?\",np.nan)\n",
    "    \n",
    "    return data"
   ]
  },
  {
   "cell_type": "code",
   "execution_count": 12,
   "id": "accredited-dynamics",
   "metadata": {},
   "outputs": [],
   "source": [
    "renda = tratamento_espaco_branco(renda)"
   ]
  },
  {
   "cell_type": "markdown",
   "id": "contrary-highland",
   "metadata": {},
   "source": [
    "## Verificando dados ausentes\n",
    "* Podemos perceber pelo comando abaixo que temos dados ausentes nos campos \"Classe Trabalho\", \"Ocupacao\" e \"Pais Nativo\""
   ]
  },
  {
   "cell_type": "code",
   "execution_count": 13,
   "id": "charming-ukraine",
   "metadata": {},
   "outputs": [
    {
     "data": {
      "text/plain": [
       "Idade                 0\n",
       "Classe Trabalho    1836\n",
       "Peso Final            0\n",
       "Educacao              0\n",
       "Num Educacao          0\n",
       "Estado Civil          0\n",
       "Ocupacao           1843\n",
       "Relacao               0\n",
       "Raca                  0\n",
       "Sexo                  0\n",
       "Ganho Capital         0\n",
       "Perda Capital         0\n",
       "Horas Semana          0\n",
       "Pais Nativo         583\n",
       "Renda                 0\n",
       "dtype: int64"
      ]
     },
     "execution_count": 13,
     "metadata": {},
     "output_type": "execute_result"
    }
   ],
   "source": [
    "renda.isnull().sum()"
   ]
  },
  {
   "cell_type": "markdown",
   "id": "irish-congress",
   "metadata": {},
   "source": [
    "## Tratamento de dados ausentes\n",
    "* A função abaixo substitui os dados ausentes pela moda"
   ]
  },
  {
   "cell_type": "code",
   "execution_count": 14,
   "id": "closing-motivation",
   "metadata": {},
   "outputs": [],
   "source": [
    "def tratamento_dados_ausentes(data):\n",
    "    \n",
    "    # Coluna Classe Trabalho\n",
    "    modaClasseTrabalho = data['Classe Trabalho'].mode()[0]\n",
    "    # Substitui os dados faltantes dessa coluna pela moda\n",
    "    data['Classe Trabalho'].fillna(modaClasseTrabalho, inplace=True)\n",
    "    \n",
    "    # Coluna Ocupacao\n",
    "    modaOcupacao = data['Ocupacao'].mode()[0]\n",
    "    # Substitui os dados faltantes dessa coluna pela moda\n",
    "    data['Ocupacao'].fillna(modaOcupacao, inplace=True)\n",
    "    \n",
    "    # Coluna Pais Nativo\n",
    "    modaPaisNativo = data['Pais Nativo'].mode()[0]\n",
    "    # Substitui os dados faltantes dessa coluna pela moda\n",
    "    data['Pais Nativo'].fillna(modaPaisNativo, inplace=True)\n",
    "    \n",
    "    return data"
   ]
  },
  {
   "cell_type": "code",
   "execution_count": 15,
   "id": "seeing-target",
   "metadata": {},
   "outputs": [],
   "source": [
    "renda = tratamento_dados_ausentes(renda)"
   ]
  },
  {
   "cell_type": "markdown",
   "id": "driving-encounter",
   "metadata": {},
   "source": [
    "## Verificando se ainda temos dados ausentes\n",
    "* Podemos perceber já não temos mais dados ausentes no dataset"
   ]
  },
  {
   "cell_type": "code",
   "execution_count": 16,
   "id": "opposite-australia",
   "metadata": {},
   "outputs": [
    {
     "data": {
      "text/plain": [
       "Idade              0\n",
       "Classe Trabalho    0\n",
       "Peso Final         0\n",
       "Educacao           0\n",
       "Num Educacao       0\n",
       "Estado Civil       0\n",
       "Ocupacao           0\n",
       "Relacao            0\n",
       "Raca               0\n",
       "Sexo               0\n",
       "Ganho Capital      0\n",
       "Perda Capital      0\n",
       "Horas Semana       0\n",
       "Pais Nativo        0\n",
       "Renda              0\n",
       "dtype: int64"
      ]
     },
     "execution_count": 16,
     "metadata": {},
     "output_type": "execute_result"
    }
   ],
   "source": [
    "renda.isnull().sum()"
   ]
  },
  {
   "cell_type": "markdown",
   "id": "fresh-guyana",
   "metadata": {},
   "source": [
    "# Tratamentos de Outiliers"
   ]
  },
  {
   "cell_type": "code",
   "execution_count": 17,
   "id": "phantom-generic",
   "metadata": {},
   "outputs": [
    {
     "data": {
      "text/html": [
       "<div>\n",
       "<style scoped>\n",
       "    .dataframe tbody tr th:only-of-type {\n",
       "        vertical-align: middle;\n",
       "    }\n",
       "\n",
       "    .dataframe tbody tr th {\n",
       "        vertical-align: top;\n",
       "    }\n",
       "\n",
       "    .dataframe thead th {\n",
       "        text-align: right;\n",
       "    }\n",
       "</style>\n",
       "<table border=\"1\" class=\"dataframe\">\n",
       "  <thead>\n",
       "    <tr style=\"text-align: right;\">\n",
       "      <th></th>\n",
       "      <th>Idade</th>\n",
       "      <th>Peso Final</th>\n",
       "      <th>Num Educacao</th>\n",
       "      <th>Ganho Capital</th>\n",
       "      <th>Perda Capital</th>\n",
       "      <th>Horas Semana</th>\n",
       "    </tr>\n",
       "  </thead>\n",
       "  <tbody>\n",
       "    <tr>\n",
       "      <th>count</th>\n",
       "      <td>32561.000000</td>\n",
       "      <td>3.256100e+04</td>\n",
       "      <td>32561.000000</td>\n",
       "      <td>32561.000000</td>\n",
       "      <td>32561.000000</td>\n",
       "      <td>32561.000000</td>\n",
       "    </tr>\n",
       "    <tr>\n",
       "      <th>mean</th>\n",
       "      <td>38.581647</td>\n",
       "      <td>1.897784e+05</td>\n",
       "      <td>10.080679</td>\n",
       "      <td>1077.648844</td>\n",
       "      <td>87.303830</td>\n",
       "      <td>40.437456</td>\n",
       "    </tr>\n",
       "    <tr>\n",
       "      <th>std</th>\n",
       "      <td>13.640433</td>\n",
       "      <td>1.055500e+05</td>\n",
       "      <td>2.572720</td>\n",
       "      <td>7385.292085</td>\n",
       "      <td>402.960219</td>\n",
       "      <td>12.347429</td>\n",
       "    </tr>\n",
       "    <tr>\n",
       "      <th>min</th>\n",
       "      <td>17.000000</td>\n",
       "      <td>1.228500e+04</td>\n",
       "      <td>1.000000</td>\n",
       "      <td>0.000000</td>\n",
       "      <td>0.000000</td>\n",
       "      <td>1.000000</td>\n",
       "    </tr>\n",
       "    <tr>\n",
       "      <th>25%</th>\n",
       "      <td>28.000000</td>\n",
       "      <td>1.178270e+05</td>\n",
       "      <td>9.000000</td>\n",
       "      <td>0.000000</td>\n",
       "      <td>0.000000</td>\n",
       "      <td>40.000000</td>\n",
       "    </tr>\n",
       "    <tr>\n",
       "      <th>50%</th>\n",
       "      <td>37.000000</td>\n",
       "      <td>1.783560e+05</td>\n",
       "      <td>10.000000</td>\n",
       "      <td>0.000000</td>\n",
       "      <td>0.000000</td>\n",
       "      <td>40.000000</td>\n",
       "    </tr>\n",
       "    <tr>\n",
       "      <th>75%</th>\n",
       "      <td>48.000000</td>\n",
       "      <td>2.370510e+05</td>\n",
       "      <td>12.000000</td>\n",
       "      <td>0.000000</td>\n",
       "      <td>0.000000</td>\n",
       "      <td>45.000000</td>\n",
       "    </tr>\n",
       "    <tr>\n",
       "      <th>max</th>\n",
       "      <td>90.000000</td>\n",
       "      <td>1.484705e+06</td>\n",
       "      <td>16.000000</td>\n",
       "      <td>99999.000000</td>\n",
       "      <td>4356.000000</td>\n",
       "      <td>99.000000</td>\n",
       "    </tr>\n",
       "  </tbody>\n",
       "</table>\n",
       "</div>"
      ],
      "text/plain": [
       "              Idade    Peso Final  Num Educacao  Ganho Capital  Perda Capital  \\\n",
       "count  32561.000000  3.256100e+04  32561.000000   32561.000000   32561.000000   \n",
       "mean      38.581647  1.897784e+05     10.080679    1077.648844      87.303830   \n",
       "std       13.640433  1.055500e+05      2.572720    7385.292085     402.960219   \n",
       "min       17.000000  1.228500e+04      1.000000       0.000000       0.000000   \n",
       "25%       28.000000  1.178270e+05      9.000000       0.000000       0.000000   \n",
       "50%       37.000000  1.783560e+05     10.000000       0.000000       0.000000   \n",
       "75%       48.000000  2.370510e+05     12.000000       0.000000       0.000000   \n",
       "max       90.000000  1.484705e+06     16.000000   99999.000000    4356.000000   \n",
       "\n",
       "       Horas Semana  \n",
       "count  32561.000000  \n",
       "mean      40.437456  \n",
       "std       12.347429  \n",
       "min        1.000000  \n",
       "25%       40.000000  \n",
       "50%       40.000000  \n",
       "75%       45.000000  \n",
       "max       99.000000  "
      ]
     },
     "execution_count": 17,
     "metadata": {},
     "output_type": "execute_result"
    }
   ],
   "source": [
    "renda.describe()"
   ]
  },
  {
   "cell_type": "markdown",
   "id": "novel-robertson",
   "metadata": {},
   "source": [
    "* Analisando o comando acima podemos observar que alguns outliers:\n",
    "* Idade - o minimo é 17 e o maximo 90, precisamos analisar o porque dessa diferença de idade, pode ser outilier\n",
    "* Ganho Capital: o minimo é 0 e o maximo é 99999, pode ser outlier\n",
    "* Horas Semanas: o minimo é 1 e o maximo 99, pode ser outlier"
   ]
  },
  {
   "cell_type": "markdown",
   "id": "painful-break",
   "metadata": {},
   "source": [
    "## Traçando um grafico Boxplot para essas três variaveis"
   ]
  },
  {
   "cell_type": "markdown",
   "id": "stylish-newcastle",
   "metadata": {},
   "source": [
    "* Os graficos boxplot serão traçados usando a bibliotecas seaborn"
   ]
  },
  {
   "cell_type": "markdown",
   "id": "respected-party",
   "metadata": {},
   "source": [
    "### Mudando o estilo dos graficos"
   ]
  },
  {
   "cell_type": "code",
   "execution_count": 18,
   "id": "ceramic-romance",
   "metadata": {},
   "outputs": [],
   "source": [
    "sns.set(style=\"whitegrid\", color_codes=True)"
   ]
  },
  {
   "cell_type": "markdown",
   "id": "ideal-valve",
   "metadata": {},
   "source": [
    "### Grafico para a variavel Idade"
   ]
  },
  {
   "cell_type": "code",
   "execution_count": 19,
   "id": "announced-coupon",
   "metadata": {},
   "outputs": [
    {
     "data": {
      "image/png": "[encoded data removed]",
      "text/plain": [
       "<Figure size 432x288 with 1 Axes>"
      ]
     },
     "metadata": {},
     "output_type": "display_data"
    }
   ],
   "source": [
    "sns.boxplot(data=renda['Idade']);"
   ]
  },
  {
   "cell_type": "markdown",
   "id": "cross-ecuador",
   "metadata": {},
   "source": [
    "### Grafico para a variavel Horas Semana"
   ]
  },
  {
   "cell_type": "code",
   "execution_count": 20,
   "id": "wired-ancient",
   "metadata": {},
   "outputs": [
    {
     "data": {
      "image/png": "[encoded data removed]",
      "text/plain": [
       "<Figure size 432x288 with 1 Axes>"
      ]
     },
     "metadata": {},
     "output_type": "display_data"
    }
   ],
   "source": [
    "sns.boxplot(data=renda['Horas Semana']);"
   ]
  },
  {
   "cell_type": "markdown",
   "id": "skilled-envelope",
   "metadata": {},
   "source": [
    "### Grafico para a variavel Ganho Capital"
   ]
  },
  {
   "cell_type": "code",
   "execution_count": 21,
   "id": "stainless-chancellor",
   "metadata": {},
   "outputs": [
    {
     "data": {
      "image/png": "[encoded data removed]",
      "text/plain": [
       "<Figure size 432x288 with 1 Axes>"
      ]
     },
     "metadata": {},
     "output_type": "display_data"
    }
   ],
   "source": [
    "sns.boxplot(data=renda['Ganho Capital']);"
   ]
  },
  {
   "cell_type": "markdown",
   "id": "lightweight-serum",
   "metadata": {},
   "source": [
    "* Para a remoção de outiliers será utilizado o metodos estatitistico e analise univariada dos dados, com calculo de duas vezes o desvio padrão porque os dados estão muito espaçados podemos verificar isso pelos boxplot demonstrados anteriormente\n",
    "\n",
    "* A função abaixo será responsavel pela remoção dos outliers, no inicio da função é calculada a média e o desvio padrão, o valor de corte é usado como métrica 2 vezes o desvio padrão porque os dados estão muito espaçados, em seguida é feito a identificação do valor minimo e maximo "
   ]
  },
  {
   "cell_type": "code",
   "execution_count": 22,
   "id": "eight-smooth",
   "metadata": {},
   "outputs": [],
   "source": [
    "def remover_outlier_metodo_estatistico(data, coluna):\n",
    "    #Calcula a Media\n",
    "    valor_media = np.mean(data[coluna])\n",
    "    print(\"valor_media: \" + str(valor_media))\n",
    "    \n",
    "    #Calcula o desvio padrão\n",
    "    valor_desvio = np.std(data[coluna])\n",
    "    print(\"valor_desvio: \" + str(valor_desvio))\n",
    "    \n",
    "    #Valor Corte\n",
    "    valor_corte = valor_desvio * 2\n",
    "    print(\"valor_corte: \" + str(valor_corte))\n",
    "    \n",
    "    #Valor de Ponto Minimo\n",
    "    valor_ponto_minimo = valor_media - valor_corte\n",
    "    print(\"valor_ponto_minimo: \" + str(valor_ponto_minimo))\n",
    "    \n",
    "    #Valor de Ponto Maximo\n",
    "    valor_ponto_maximo = valor_media + valor_corte\n",
    "    print(\"valor_ponto_maximo: \" + str(valor_ponto_maximo))\n",
    "    \n",
    "    #Indices a serem excluidos    \n",
    "    idx = data[(data[coluna] < valor_ponto_minimo) | (data[coluna] > valor_ponto_maximo)].index\n",
    "    print(\"idx: \" + str(idx))\n",
    "    \n",
    "    # removendo os dados da coluna baseado no indice\n",
    "    data.drop(idx , inplace=True) \n",
    "    \n",
    "    #Redifinindo os indices após a exclusão\n",
    "    data.reset_index(inplace=True, drop=True)\n",
    "    \n",
    "    return data"
   ]
  },
  {
   "cell_type": "markdown",
   "id": "stopped-disclaimer",
   "metadata": {},
   "source": [
    "## Dimensão do dataset antes da remoção dos outliers"
   ]
  },
  {
   "cell_type": "code",
   "execution_count": 23,
   "id": "minor-title",
   "metadata": {},
   "outputs": [
    {
     "data": {
      "text/plain": [
       "(32561, 15)"
      ]
     },
     "execution_count": 23,
     "metadata": {},
     "output_type": "execute_result"
    }
   ],
   "source": [
    "renda.shape"
   ]
  },
  {
   "cell_type": "markdown",
   "id": "stretch-village",
   "metadata": {},
   "source": [
    "## Remove os outliers da coluna Idade"
   ]
  },
  {
   "cell_type": "code",
   "execution_count": 24,
   "id": "posted-collective",
   "metadata": {},
   "outputs": [
    {
     "name": "stdout",
     "output_type": "stream",
     "text": [
      "valor_media: 38.58164675532078\n",
      "valor_desvio: 13.640223092304277\n",
      "valor_corte: 27.280446184608554\n",
      "valor_ponto_minimo: 11.30120057071223\n",
      "valor_ponto_maximo: 65.86209293992934\n",
      "idx: Int64Index([    0,     1,     2,     7,     8,    44,    46,    47,    48,\n",
      "               49,\n",
      "            ...\n",
      "            32364, 32366, 32451, 32468, 32473, 32500, 32506, 32528, 32541,\n",
      "            32544],\n",
      "           dtype='int64', length=1158)\n"
     ]
    }
   ],
   "source": [
    "renda = remover_outlier_metodo_estatistico(renda,'Idade')"
   ]
  },
  {
   "cell_type": "markdown",
   "id": "hungarian-diploma",
   "metadata": {},
   "source": [
    "## Grafico BoxPlot da coluna \"Idade\""
   ]
  },
  {
   "cell_type": "code",
   "execution_count": 25,
   "id": "focal-serum",
   "metadata": {},
   "outputs": [
    {
     "data": {
      "image/png": "[encoded data removed]",
      "text/plain": [
       "<Figure size 432x288 with 1 Axes>"
      ]
     },
     "metadata": {},
     "output_type": "display_data"
    }
   ],
   "source": [
    "sns.boxplot(data=renda['Idade']);"
   ]
  },
  {
   "cell_type": "markdown",
   "id": "valued-hospital",
   "metadata": {},
   "source": [
    "## Removendo outilier da coluna Horas Semana"
   ]
  },
  {
   "cell_type": "code",
   "execution_count": 26,
   "id": "filled-participation",
   "metadata": {},
   "outputs": [
    {
     "name": "stdout",
     "output_type": "stream",
     "text": [
      "valor_media: 40.85810272903863\n",
      "valor_desvio: 11.961142633040563\n",
      "valor_corte: 23.922285266081126\n",
      "valor_ponto_minimo: 16.935817462957502\n",
      "valor_ponto_maximo: 64.78038799511975\n",
      "idx: Int64Index([   11,    24,    39,    41,    50,    52,    55,    64,    66,\n",
      "               67,\n",
      "            ...\n",
      "            31259, 31267, 31296, 31322, 31323, 31329, 31347, 31372, 31378,\n",
      "            31396],\n",
      "           dtype='int64', length=2314)\n"
     ]
    }
   ],
   "source": [
    "renda = remover_outlier_metodo_estatistico(renda,'Horas Semana')"
   ]
  },
  {
   "cell_type": "markdown",
   "id": "smoking-lightning",
   "metadata": {},
   "source": [
    "## Grafico BoxPlot da coluna \"Horas Semana\""
   ]
  },
  {
   "cell_type": "code",
   "execution_count": 27,
   "id": "focal-walnut",
   "metadata": {},
   "outputs": [
    {
     "data": {
      "image/png": "[encoded data removed]",
      "text/plain": [
       "<Figure size 432x288 with 1 Axes>"
      ]
     },
     "metadata": {},
     "output_type": "display_data"
    }
   ],
   "source": [
    "sns.boxplot(data=renda['Horas Semana']);"
   ]
  },
  {
   "cell_type": "markdown",
   "id": "matched-result",
   "metadata": {},
   "source": [
    "## Removendo outilier da coluna Ganho Capital"
   ]
  },
  {
   "cell_type": "code",
   "execution_count": 28,
   "id": "referenced-turkey",
   "metadata": {},
   "outputs": [
    {
     "name": "stdout",
     "output_type": "stream",
     "text": [
      "valor_media: 1010.4806971707518\n",
      "valor_desvio: 7010.882365854536\n",
      "valor_corte: 14021.764731709072\n",
      "valor_ponto_minimo: -13011.284034538321\n",
      "valor_ponto_maximo: 15032.245428879824\n",
      "idx: Int64Index([1349, 1350, 1351, 1352, 1353, 1354, 1355, 1356, 1357, 1358,\n",
      "            ...\n",
      "            1519, 1520, 1521, 1522, 1523, 1524, 1525, 1526, 1527, 1528],\n",
      "           dtype='int64', length=180)\n"
     ]
    }
   ],
   "source": [
    "renda = remover_outlier_metodo_estatistico(renda,'Ganho Capital')"
   ]
  },
  {
   "cell_type": "markdown",
   "id": "perfect-opportunity",
   "metadata": {},
   "source": [
    "## Grafico BoxPlot da coluna \"Ganho Capital\""
   ]
  },
  {
   "cell_type": "code",
   "execution_count": 29,
   "id": "alien-veteran",
   "metadata": {},
   "outputs": [
    {
     "data": {
      "image/png": "[encoded data removed]",
      "text/plain": [
       "<Figure size 432x288 with 1 Axes>"
      ]
     },
     "metadata": {},
     "output_type": "display_data"
    }
   ],
   "source": [
    "sns.boxplot(data=renda['Ganho Capital']);"
   ]
  },
  {
   "cell_type": "markdown",
   "id": "right-quebec",
   "metadata": {},
   "source": [
    "## Dimensão do dataset após da remoção dos outliers¶"
   ]
  },
  {
   "cell_type": "code",
   "execution_count": 30,
   "id": "optical-trainer",
   "metadata": {},
   "outputs": [
    {
     "data": {
      "text/plain": [
       "(28909, 15)"
      ]
     },
     "execution_count": 30,
     "metadata": {},
     "output_type": "execute_result"
    }
   ],
   "source": [
    "renda.shape"
   ]
  }
 ],
 "metadata": {
  "kernelspec": {
   "display_name": "Python 3",
   "language": "python",
   "name": "python3"
  },
  "language_info": {
   "codemirror_mode": {
    "name": "ipython",
    "version": 3
   },
   "file_extension": ".py",
   "mimetype": "text/x-python",
   "name": "python",
   "nbconvert_exporter": "python",
   "pygments_lexer": "ipython3",
   "version": "3.8.6"
  }
 },
 "nbformat": 4,
 "nbformat_minor": 5
}
