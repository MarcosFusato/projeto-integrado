{
 "cells": [
  {
   "cell_type": "markdown",
   "id": "crucial-tampa",
   "metadata": {},
   "source": [
    "# Informações sobre a base de dados\n",
    "* Nome do dataset: adult.csv\n",
    "\n",
    "* Descrição: Descrição: O nome da base de dados é adult.csv onde será realizada a classificação se determinado individuo recebe <=50K ou >50K, ou seja será realizada a Avaliação de Rendas\n",
    "\n",
    "* Link fonte de dados: https://www.kaggle.com/uciml/adult-census-income?select=adult.csv"
   ]
  },
  {
   "cell_type": "markdown",
   "id": "dense-burke",
   "metadata": {},
   "source": [
    "# Dicionario de dados com o nome de cada campo e os tipos dos dados\n",
    "* age: continuous.\n",
    "* workclass: Private, Self-emp-not-inc, Self-emp-inc, Federal-gov, Local-gov, State-gov, Without-pay, Never-worked.\n",
    "* fnlwgt: continuous.\n",
    "* education: Bachelors, Some-college, 11th, HS-grad, Prof-school, Assoc-acdm, Assoc-voc, 9th, 7th-8th, 12th, Masters, 1st-4th, 10th, Doctorate, 5th-6th, Preschool.\n",
    "* education-num: continuous.\n",
    "* marital-status: Married-civ-spouse, Divorced, Never-married, Separated, Widowed, Married-spouse-absent, Married-AF-spouse.\n",
    "* occupation: Tech-support, Craft-repair, Other-service, Sales, Exec-managerial, Prof-specialty, Handlers-cleaners, Machine-op-inspct, Adm-clerical, Farming-fishing, Transport-moving, Priv-house-serv, Protective-serv, Armed-Forces.\n",
    "* relationship: Wife, Own-child, Husband, Not-in-family, Other-relative, Unmarried.\n",
    "* race: White, Asian-Pac-Islander, Amer-Indian-Eskimo, Other, Black.\n",
    "* sex: Female, Male.\n",
    "* capital-gain: continuous.\n",
    "* capital-loss: continuous.\n",
    "* hours-per-week: continuous.\n",
    "* native-country: United-States, Cambodia, England, Puerto-Rico, Canada, Germany, Outlying-US(Guam-USVI-etc), India, Japan, Greece, South, China, Cuba, Iran, Honduras, Philippines, Italy, Poland, Jamaica, Vietnam, Mexico, Portugal, Ireland, France, Dominican-Republic, Laos, Ecuador, Taiwan, Haiti, Columbia, Hungary, Guatemala, Nicaragua, Scotland, Thailand, Yugoslavia, El-Salvador, Trinadad&Tobago, Peru, Hong, Holand-Netherlands."
   ]
  },
  {
   "cell_type": "markdown",
   "id": "traditional-blame",
   "metadata": {},
   "source": [
    "# Importando as bibliotecas"
   ]
  },
  {
   "cell_type": "code",
   "execution_count": 1,
   "id": "aboriginal-factory",
   "metadata": {},
   "outputs": [],
   "source": [
    "import pandas as pd\n",
    "import numpy as np\n",
    "import matplotlib.pyplot as plt\n",
    "import seaborn as sns\n",
    "%matplotlib inline\n",
    "\n",
    "# Biblioteca selecionar as melhores variaveis\n",
    "from sklearn.feature_selection import chi2\n",
    "from sklearn.feature_selection import SelectKBest\n",
    "\n",
    "# Biblioteca usada para deixar os valores na mesma escala\n",
    "from sklearn.preprocessing import MinMaxScaler\n",
    "\n",
    "# Biblioteca para treino, metricas \n",
    "from sklearn.model_selection import train_test_split\n",
    "from sklearn.metrics import accuracy_score\n",
    "from sklearn.metrics import confusion_matrix\n",
    "\n",
    "# Bibliotecas para balanceamento da base de dados\n",
    "import imblearn\n",
    "from imblearn.under_sampling import NearMiss\n",
    "from imblearn.under_sampling import AllKNN\n",
    "from imblearn.under_sampling import NeighbourhoodCleaningRule\n",
    "from imblearn.over_sampling import SMOTE, ADASYN \n",
    "from imblearn.combine import SMOTEENN\n",
    "from imblearn.combine import SMOTETomek\n",
    "\n",
    "# Melhores Hiperparametros\n",
    "from sklearn.model_selection import GridSearchCV\n",
    "from sklearn.model_selection import cross_val_score\n",
    "\n",
    "# Algoritmos\n",
    "from xgboost import XGBClassifier\n",
    "from sklearn.ensemble import RandomForestClassifier\n",
    "from sklearn.tree import DecisionTreeClassifier"
   ]
  },
  {
   "cell_type": "markdown",
   "id": "average-dealer",
   "metadata": {},
   "source": [
    "* Criadas as classes TratamentoDados e ProcessamentoDados usadas no modulo A as mesmas serão importadas abaixo"
   ]
  },
  {
   "cell_type": "code",
   "execution_count": 2,
   "id": "chubby-toolbox",
   "metadata": {},
   "outputs": [],
   "source": [
    "from lib.processamento_dados import ProcessamentoDados as pr\n",
    "from lib.tratamento_dados import TratamentoDados as tr"
   ]
  },
  {
   "cell_type": "markdown",
   "id": "sunrise-cowboy",
   "metadata": {},
   "source": [
    "* Criada a classe features usada para a criação das novas features"
   ]
  },
  {
   "cell_type": "markdown",
   "id": "boxed-camera",
   "metadata": {},
   "source": [
    "### Ignora Warnings do python"
   ]
  },
  {
   "cell_type": "code",
   "execution_count": 3,
   "id": "labeled-monte",
   "metadata": {},
   "outputs": [],
   "source": [
    "def warn(*args, **kwargs):\n",
    "    pass\n",
    "import warnings\n",
    "warnings.warn = warn"
   ]
  },
  {
   "cell_type": "markdown",
   "id": "electrical-fleece",
   "metadata": {},
   "source": [
    "## Importando as bases de dados"
   ]
  },
  {
   "cell_type": "markdown",
   "id": "removed-violation",
   "metadata": {},
   "source": [
    "* Na modulo A do projeto optei por utilizar uma função para renomear as colunas do dataset a fim de mostrar os valores originais na modulo B resolvi utilizar o novo nome das colunas ao importar os dados do arquivo csv"
   ]
  },
  {
   "cell_type": "code",
   "execution_count": 4,
   "id": "later-bulgarian",
   "metadata": {},
   "outputs": [],
   "source": [
    "# cabeçalho com o nome das colunas do dataset\n",
    "header_columns = ['Idade', 'Classe Trabalho', 'Peso Final', 'Educacao', 'Num Educacao', 'Estado Civil', \n",
    "                  'Ocupacao','Relacao', 'Raca', 'Sexo', 'Ganho Capital', 'Perda Capital', 'Horas Semana', \n",
    "                  'Pais Nativo', 'Renda']"
   ]
  },
  {
   "cell_type": "code",
   "execution_count": 5,
   "id": "considerable-afternoon",
   "metadata": {},
   "outputs": [],
   "source": [
    "renda = pd.read_csv(\"base/adult.csv\", names=header_columns, skiprows=1)"
   ]
  },
  {
   "cell_type": "markdown",
   "id": "documentary-telling",
   "metadata": {},
   "source": [
    "## Exbindo os dados do dataset "
   ]
  },
  {
   "cell_type": "code",
   "execution_count": 6,
   "id": "pregnant-thanks",
   "metadata": {},
   "outputs": [
    {
     "data": {
      "text/html": [
       "<div>\n",
       "<style scoped>\n",
       "    .dataframe tbody tr th:only-of-type {\n",
       "        vertical-align: middle;\n",
       "    }\n",
       "\n",
       "    .dataframe tbody tr th {\n",
       "        vertical-align: top;\n",
       "    }\n",
       "\n",
       "    .dataframe thead th {\n",
       "        text-align: right;\n",
       "    }\n",
       "</style>\n",
       "<table border=\"1\" class=\"dataframe\">\n",
       "  <thead>\n",
       "    <tr style=\"text-align: right;\">\n",
       "      <th></th>\n",
       "      <th>Idade</th>\n",
       "      <th>Classe Trabalho</th>\n",
       "      <th>Peso Final</th>\n",
       "      <th>Educacao</th>\n",
       "      <th>Num Educacao</th>\n",
       "      <th>Estado Civil</th>\n",
       "      <th>Ocupacao</th>\n",
       "      <th>Relacao</th>\n",
       "      <th>Raca</th>\n",
       "      <th>Sexo</th>\n",
       "      <th>Ganho Capital</th>\n",
       "      <th>Perda Capital</th>\n",
       "      <th>Horas Semana</th>\n",
       "      <th>Pais Nativo</th>\n",
       "      <th>Renda</th>\n",
       "    </tr>\n",
       "  </thead>\n",
       "  <tbody>\n",
       "    <tr>\n",
       "      <th>0</th>\n",
       "      <td>90</td>\n",
       "      <td>?</td>\n",
       "      <td>77053</td>\n",
       "      <td>HS-grad</td>\n",
       "      <td>9</td>\n",
       "      <td>Widowed</td>\n",
       "      <td>?</td>\n",
       "      <td>Not-in-family</td>\n",
       "      <td>White</td>\n",
       "      <td>Female</td>\n",
       "      <td>0</td>\n",
       "      <td>4356</td>\n",
       "      <td>40</td>\n",
       "      <td>United-States</td>\n",
       "      <td>&lt;=50K</td>\n",
       "    </tr>\n",
       "    <tr>\n",
       "      <th>1</th>\n",
       "      <td>82</td>\n",
       "      <td>Private</td>\n",
       "      <td>132870</td>\n",
       "      <td>HS-grad</td>\n",
       "      <td>9</td>\n",
       "      <td>Widowed</td>\n",
       "      <td>Exec-managerial</td>\n",
       "      <td>Not-in-family</td>\n",
       "      <td>White</td>\n",
       "      <td>Female</td>\n",
       "      <td>0</td>\n",
       "      <td>4356</td>\n",
       "      <td>18</td>\n",
       "      <td>United-States</td>\n",
       "      <td>&lt;=50K</td>\n",
       "    </tr>\n",
       "    <tr>\n",
       "      <th>2</th>\n",
       "      <td>66</td>\n",
       "      <td>?</td>\n",
       "      <td>186061</td>\n",
       "      <td>Some-college</td>\n",
       "      <td>10</td>\n",
       "      <td>Widowed</td>\n",
       "      <td>?</td>\n",
       "      <td>Unmarried</td>\n",
       "      <td>Black</td>\n",
       "      <td>Female</td>\n",
       "      <td>0</td>\n",
       "      <td>4356</td>\n",
       "      <td>40</td>\n",
       "      <td>United-States</td>\n",
       "      <td>&lt;=50K</td>\n",
       "    </tr>\n",
       "    <tr>\n",
       "      <th>3</th>\n",
       "      <td>54</td>\n",
       "      <td>Private</td>\n",
       "      <td>140359</td>\n",
       "      <td>7th-8th</td>\n",
       "      <td>4</td>\n",
       "      <td>Divorced</td>\n",
       "      <td>Machine-op-inspct</td>\n",
       "      <td>Unmarried</td>\n",
       "      <td>White</td>\n",
       "      <td>Female</td>\n",
       "      <td>0</td>\n",
       "      <td>3900</td>\n",
       "      <td>40</td>\n",
       "      <td>United-States</td>\n",
       "      <td>&lt;=50K</td>\n",
       "    </tr>\n",
       "    <tr>\n",
       "      <th>4</th>\n",
       "      <td>41</td>\n",
       "      <td>Private</td>\n",
       "      <td>264663</td>\n",
       "      <td>Some-college</td>\n",
       "      <td>10</td>\n",
       "      <td>Separated</td>\n",
       "      <td>Prof-specialty</td>\n",
       "      <td>Own-child</td>\n",
       "      <td>White</td>\n",
       "      <td>Female</td>\n",
       "      <td>0</td>\n",
       "      <td>3900</td>\n",
       "      <td>40</td>\n",
       "      <td>United-States</td>\n",
       "      <td>&lt;=50K</td>\n",
       "    </tr>\n",
       "  </tbody>\n",
       "</table>\n",
       "</div>"
      ],
      "text/plain": [
       "   Idade Classe Trabalho  Peso Final      Educacao  Num Educacao Estado Civil  \\\n",
       "0     90               ?       77053       HS-grad             9      Widowed   \n",
       "1     82         Private      132870       HS-grad             9      Widowed   \n",
       "2     66               ?      186061  Some-college            10      Widowed   \n",
       "3     54         Private      140359       7th-8th             4     Divorced   \n",
       "4     41         Private      264663  Some-college            10    Separated   \n",
       "\n",
       "            Ocupacao        Relacao   Raca    Sexo  Ganho Capital  \\\n",
       "0                  ?  Not-in-family  White  Female              0   \n",
       "1    Exec-managerial  Not-in-family  White  Female              0   \n",
       "2                  ?      Unmarried  Black  Female              0   \n",
       "3  Machine-op-inspct      Unmarried  White  Female              0   \n",
       "4     Prof-specialty      Own-child  White  Female              0   \n",
       "\n",
       "   Perda Capital  Horas Semana    Pais Nativo  Renda  \n",
       "0           4356            40  United-States  <=50K  \n",
       "1           4356            18  United-States  <=50K  \n",
       "2           4356            40  United-States  <=50K  \n",
       "3           3900            40  United-States  <=50K  \n",
       "4           3900            40  United-States  <=50K  "
      ]
     },
     "execution_count": 6,
     "metadata": {},
     "output_type": "execute_result"
    }
   ],
   "source": [
    "renda.head()"
   ]
  },
  {
   "cell_type": "markdown",
   "id": "changing-marketplace",
   "metadata": {},
   "source": [
    "# Processamento e Tratamento dos dados"
   ]
  },
  {
   "cell_type": "markdown",
   "id": "lucky-parish",
   "metadata": {},
   "source": [
    "## Substituindo os espaços em branco por Nan"
   ]
  },
  {
   "cell_type": "code",
   "execution_count": 7,
   "id": "rising-merit",
   "metadata": {},
   "outputs": [],
   "source": [
    "renda = tr.tratamento_espaco_branco(renda)"
   ]
  },
  {
   "cell_type": "markdown",
   "id": "acoustic-bunch",
   "metadata": {},
   "source": [
    "## Tratamento de dados ausentes"
   ]
  },
  {
   "cell_type": "markdown",
   "id": "higher-blowing",
   "metadata": {},
   "source": [
    "### Tratamento de dados ausentes na coluna Classe Trabalho"
   ]
  },
  {
   "cell_type": "code",
   "execution_count": 8,
   "id": "popular-small",
   "metadata": {},
   "outputs": [],
   "source": [
    "renda = tr.tratamento_dados_ausentes(renda, 'Classe Trabalho')"
   ]
  },
  {
   "cell_type": "markdown",
   "id": "described-broad",
   "metadata": {},
   "source": [
    "### Tratamento de dados ausentes na coluna Coluna Ocupacao"
   ]
  },
  {
   "cell_type": "code",
   "execution_count": 10,
   "id": "respiratory-border",
   "metadata": {},
   "outputs": [],
   "source": [
    "renda = tr.tratamento_dados_ausentes(renda, 'Ocupacao')"
   ]
  },
  {
   "cell_type": "markdown",
   "id": "joint-german",
   "metadata": {},
   "source": [
    "### Tratamento de dados ausentes na coluna Pais Nativo"
   ]
  },
  {
   "cell_type": "code",
   "execution_count": 11,
   "id": "aboriginal-semiconductor",
   "metadata": {},
   "outputs": [],
   "source": [
    "renda = tr.tratamento_dados_ausentes(renda, 'Pais Nativo')"
   ]
  },
  {
   "cell_type": "markdown",
   "id": "adjusted-camera",
   "metadata": {},
   "source": [
    "## Verificando se ainda temos dados ausentes\n",
    "* Podemos perceber já não temos mais dados ausentes no dataset"
   ]
  },
  {
   "cell_type": "code",
   "execution_count": 12,
   "id": "adjusted-employer",
   "metadata": {},
   "outputs": [
    {
     "data": {
      "text/plain": [
       "Idade              0\n",
       "Classe Trabalho    0\n",
       "Peso Final         0\n",
       "Educacao           0\n",
       "Num Educacao       0\n",
       "Estado Civil       0\n",
       "Ocupacao           0\n",
       "Relacao            0\n",
       "Raca               0\n",
       "Sexo               0\n",
       "Ganho Capital      0\n",
       "Perda Capital      0\n",
       "Horas Semana       0\n",
       "Pais Nativo        0\n",
       "Renda              0\n",
       "dtype: int64"
      ]
     },
     "execution_count": 12,
     "metadata": {},
     "output_type": "execute_result"
    }
   ],
   "source": [
    "renda.isnull().sum()"
   ]
  },
  {
   "cell_type": "markdown",
   "id": "found-vegetable",
   "metadata": {},
   "source": [
    "# Tratamentos de Outiliers"
   ]
  },
  {
   "cell_type": "markdown",
   "id": "graduate-broadcast",
   "metadata": {},
   "source": [
    "### Dimensão do dataset antes da remoção dos outliers"
   ]
  },
  {
   "cell_type": "markdown",
   "id": "enabling-accreditation",
   "metadata": {},
   "source": [
    "### OBS: Será feita primeiro a analise exploratória e grafica dos dados para posteriormente aplicar a limpeza dos outliers"
   ]
  },
  {
   "cell_type": "code",
   "execution_count": 13,
   "id": "olive-lancaster",
   "metadata": {},
   "outputs": [],
   "source": [
    "renda2 = renda.copy()"
   ]
  },
  {
   "cell_type": "code",
   "execution_count": 14,
   "id": "therapeutic-breach",
   "metadata": {},
   "outputs": [
    {
     "data": {
      "text/plain": [
       "(32561, 15)"
      ]
     },
     "execution_count": 14,
     "metadata": {},
     "output_type": "execute_result"
    }
   ],
   "source": [
    "renda2.shape"
   ]
  },
  {
   "cell_type": "markdown",
   "id": "controlled-enlargement",
   "metadata": {},
   "source": [
    "### Remove outlier Coluna Idade"
   ]
  },
  {
   "cell_type": "code",
   "execution_count": 15,
   "id": "suffering-framework",
   "metadata": {},
   "outputs": [],
   "source": [
    "renda2 = pr.remover_outlier_metodo_estatistico(renda2,'Idade')"
   ]
  },
  {
   "cell_type": "markdown",
   "id": "impossible-rugby",
   "metadata": {},
   "source": [
    "### Remove outlier Coluna Horas Semana"
   ]
  },
  {
   "cell_type": "code",
   "execution_count": 16,
   "id": "handed-humanity",
   "metadata": {},
   "outputs": [],
   "source": [
    "renda2 = pr.remover_outlier_metodo_estatistico(renda2,'Horas Semana')"
   ]
  },
  {
   "cell_type": "markdown",
   "id": "industrial-hybrid",
   "metadata": {},
   "source": [
    "### Remove outlier Ganho Capital"
   ]
  },
  {
   "cell_type": "code",
   "execution_count": 17,
   "id": "interstate-acrobat",
   "metadata": {},
   "outputs": [],
   "source": [
    "renda2 = pr.remover_outlier_metodo_estatistico(renda2,'Ganho Capital')"
   ]
  },
  {
   "cell_type": "markdown",
   "id": "eleven-pharmacy",
   "metadata": {},
   "source": [
    "### Dimensão do dataset após da remoção dos outliers¶"
   ]
  },
  {
   "cell_type": "code",
   "execution_count": 18,
   "id": "alike-october",
   "metadata": {},
   "outputs": [
    {
     "data": {
      "text/plain": [
       "(28909, 15)"
      ]
     },
     "execution_count": 18,
     "metadata": {},
     "output_type": "execute_result"
    }
   ],
   "source": [
    "renda2.shape"
   ]
  },
  {
   "cell_type": "markdown",
   "id": "sunset-dublin",
   "metadata": {},
   "source": [
    "### Identificando as melhores features para o modelo"
   ]
  },
  {
   "cell_type": "code",
   "execution_count": 19,
   "id": "impossible-mexico",
   "metadata": {},
   "outputs": [],
   "source": [
    "# Cria uma copia e o deep = true por default não faz alterações no dataframe original renda2\n",
    "renda3 = renda2.copy()"
   ]
  },
  {
   "cell_type": "code",
   "execution_count": 20,
   "id": "laden-campus",
   "metadata": {},
   "outputs": [
    {
     "data": {
      "text/plain": [
       "(28909, 15)"
      ]
     },
     "execution_count": 20,
     "metadata": {},
     "output_type": "execute_result"
    }
   ],
   "source": [
    "renda3.shape"
   ]
  },
  {
   "cell_type": "markdown",
   "id": "coated-priest",
   "metadata": {},
   "source": [
    "# Criação dos atributos"
   ]
  },
  {
   "cell_type": "markdown",
   "id": "comprehensive-forestry",
   "metadata": {},
   "source": [
    "* Pelo comando abaixo observamos na linha \"Unique\" a quantidade de valores unicos que possuimos nas variaveis do dataset, para tornar mais eficiente a aplicação do algoritmo vamos considerar apenas variaveis que possuam até 6 valores unico"
   ]
  },
  {
   "cell_type": "code",
   "execution_count": 21,
   "id": "overall-latest",
   "metadata": {},
   "outputs": [
    {
     "data": {
      "text/html": [
       "<div>\n",
       "<style scoped>\n",
       "    .dataframe tbody tr th:only-of-type {\n",
       "        vertical-align: middle;\n",
       "    }\n",
       "\n",
       "    .dataframe tbody tr th {\n",
       "        vertical-align: top;\n",
       "    }\n",
       "\n",
       "    .dataframe thead th {\n",
       "        text-align: right;\n",
       "    }\n",
       "</style>\n",
       "<table border=\"1\" class=\"dataframe\">\n",
       "  <thead>\n",
       "    <tr style=\"text-align: right;\">\n",
       "      <th></th>\n",
       "      <th>Classe Trabalho</th>\n",
       "      <th>Educacao</th>\n",
       "      <th>Estado Civil</th>\n",
       "      <th>Ocupacao</th>\n",
       "      <th>Relacao</th>\n",
       "      <th>Raca</th>\n",
       "      <th>Sexo</th>\n",
       "      <th>Pais Nativo</th>\n",
       "      <th>Renda</th>\n",
       "    </tr>\n",
       "  </thead>\n",
       "  <tbody>\n",
       "    <tr>\n",
       "      <th>count</th>\n",
       "      <td>28909</td>\n",
       "      <td>28909</td>\n",
       "      <td>28909</td>\n",
       "      <td>28909</td>\n",
       "      <td>28909</td>\n",
       "      <td>28909</td>\n",
       "      <td>28909</td>\n",
       "      <td>28909</td>\n",
       "      <td>28909</td>\n",
       "    </tr>\n",
       "    <tr>\n",
       "      <th>unique</th>\n",
       "      <td>8</td>\n",
       "      <td>16</td>\n",
       "      <td>7</td>\n",
       "      <td>14</td>\n",
       "      <td>6</td>\n",
       "      <td>5</td>\n",
       "      <td>2</td>\n",
       "      <td>41</td>\n",
       "      <td>2</td>\n",
       "    </tr>\n",
       "    <tr>\n",
       "      <th>top</th>\n",
       "      <td>Private</td>\n",
       "      <td>HS-grad</td>\n",
       "      <td>Married-civ-spouse</td>\n",
       "      <td>Prof-specialty</td>\n",
       "      <td>Husband</td>\n",
       "      <td>White</td>\n",
       "      <td>Male</td>\n",
       "      <td>United-States</td>\n",
       "      <td>&lt;=50K</td>\n",
       "    </tr>\n",
       "    <tr>\n",
       "      <th>freq</th>\n",
       "      <td>22080</td>\n",
       "      <td>9523</td>\n",
       "      <td>13305</td>\n",
       "      <td>4949</td>\n",
       "      <td>11703</td>\n",
       "      <td>24554</td>\n",
       "      <td>19428</td>\n",
       "      <td>26367</td>\n",
       "      <td>21932</td>\n",
       "    </tr>\n",
       "  </tbody>\n",
       "</table>\n",
       "</div>"
      ],
      "text/plain": [
       "       Classe Trabalho Educacao        Estado Civil        Ocupacao  Relacao  \\\n",
       "count            28909    28909               28909           28909    28909   \n",
       "unique               8       16                   7              14        6   \n",
       "top            Private  HS-grad  Married-civ-spouse  Prof-specialty  Husband   \n",
       "freq             22080     9523               13305            4949    11703   \n",
       "\n",
       "         Raca   Sexo    Pais Nativo  Renda  \n",
       "count   28909  28909          28909  28909  \n",
       "unique      5      2             41      2  \n",
       "top     White   Male  United-States  <=50K  \n",
       "freq    24554  19428          26367  21932  "
      ]
     },
     "execution_count": 21,
     "metadata": {},
     "output_type": "execute_result"
    }
   ],
   "source": [
    "renda3.describe(include=['O'])"
   ]
  },
  {
   "cell_type": "markdown",
   "id": "serious-environment",
   "metadata": {},
   "source": [
    "* Partindo dessa analise estaremos excluindo as variaveis 'Classe Trabalho', 'Educacao', 'Estado Civil', 'Ocupacao', 'Pais Nativo'"
   ]
  },
  {
   "cell_type": "code",
   "execution_count": 22,
   "id": "analyzed-riding",
   "metadata": {},
   "outputs": [],
   "source": [
    "renda3.drop(['Classe Trabalho', 'Educacao', 'Estado Civil', 'Ocupacao', 'Pais Nativo'], axis=1, inplace=True)"
   ]
  },
  {
   "cell_type": "code",
   "execution_count": 23,
   "id": "brazilian-astrology",
   "metadata": {},
   "outputs": [
    {
     "data": {
      "text/plain": [
       "Index(['Idade', 'Peso Final', 'Num Educacao', 'Relacao', 'Raca', 'Sexo',\n",
       "       'Ganho Capital', 'Perda Capital', 'Horas Semana', 'Renda'],\n",
       "      dtype='object')"
      ]
     },
     "execution_count": 23,
     "metadata": {},
     "output_type": "execute_result"
    }
   ],
   "source": [
    "renda3.columns"
   ]
  },
  {
   "cell_type": "code",
   "execution_count": 24,
   "id": "endless-wallpaper",
   "metadata": {},
   "outputs": [
    {
     "data": {
      "text/html": [
       "<div>\n",
       "<style scoped>\n",
       "    .dataframe tbody tr th:only-of-type {\n",
       "        vertical-align: middle;\n",
       "    }\n",
       "\n",
       "    .dataframe tbody tr th {\n",
       "        vertical-align: top;\n",
       "    }\n",
       "\n",
       "    .dataframe thead th {\n",
       "        text-align: right;\n",
       "    }\n",
       "</style>\n",
       "<table border=\"1\" class=\"dataframe\">\n",
       "  <thead>\n",
       "    <tr style=\"text-align: right;\">\n",
       "      <th></th>\n",
       "      <th>Relacao</th>\n",
       "      <th>Raca</th>\n",
       "      <th>Sexo</th>\n",
       "      <th>Renda</th>\n",
       "    </tr>\n",
       "  </thead>\n",
       "  <tbody>\n",
       "    <tr>\n",
       "      <th>count</th>\n",
       "      <td>28909</td>\n",
       "      <td>28909</td>\n",
       "      <td>28909</td>\n",
       "      <td>28909</td>\n",
       "    </tr>\n",
       "    <tr>\n",
       "      <th>unique</th>\n",
       "      <td>6</td>\n",
       "      <td>5</td>\n",
       "      <td>2</td>\n",
       "      <td>2</td>\n",
       "    </tr>\n",
       "    <tr>\n",
       "      <th>top</th>\n",
       "      <td>Husband</td>\n",
       "      <td>White</td>\n",
       "      <td>Male</td>\n",
       "      <td>&lt;=50K</td>\n",
       "    </tr>\n",
       "    <tr>\n",
       "      <th>freq</th>\n",
       "      <td>11703</td>\n",
       "      <td>24554</td>\n",
       "      <td>19428</td>\n",
       "      <td>21932</td>\n",
       "    </tr>\n",
       "  </tbody>\n",
       "</table>\n",
       "</div>"
      ],
      "text/plain": [
       "        Relacao   Raca   Sexo  Renda\n",
       "count     28909  28909  28909  28909\n",
       "unique        6      5      2      2\n",
       "top     Husband  White   Male  <=50K\n",
       "freq      11703  24554  19428  21932"
      ]
     },
     "execution_count": 24,
     "metadata": {},
     "output_type": "execute_result"
    }
   ],
   "source": [
    "renda3.describe(include=['O'])"
   ]
  },
  {
   "cell_type": "markdown",
   "id": "worldwide-italy",
   "metadata": {},
   "source": [
    "### Aplicando a função get_dummies do panda que transforma as colunas categoricas em numéricas"
   ]
  },
  {
   "cell_type": "code",
   "execution_count": 25,
   "id": "hungry-portuguese",
   "metadata": {},
   "outputs": [],
   "source": [
    "dummy_features = pd.get_dummies(renda3[['Relacao', 'Raca','Sexo']])"
   ]
  },
  {
   "cell_type": "markdown",
   "id": "serial-transcription",
   "metadata": {},
   "source": [
    "### Transformando a variavel Renda em Numerica"
   ]
  },
  {
   "cell_type": "code",
   "execution_count": 26,
   "id": "stainless-flavor",
   "metadata": {},
   "outputs": [],
   "source": [
    "dic_renda = {'<=50K': 0,'>50K': 1}"
   ]
  },
  {
   "cell_type": "markdown",
   "id": "pacific-copper",
   "metadata": {},
   "source": [
    "### Substituindo os valores"
   ]
  },
  {
   "cell_type": "code",
   "execution_count": 27,
   "id": "speaking-copying",
   "metadata": {},
   "outputs": [],
   "source": [
    "renda3['Renda'] = renda3['Renda'].map(dic_renda)"
   ]
  },
  {
   "cell_type": "code",
   "execution_count": 28,
   "id": "sweet-hostel",
   "metadata": {},
   "outputs": [
    {
     "data": {
      "text/html": [
       "<div>\n",
       "<style scoped>\n",
       "    .dataframe tbody tr th:only-of-type {\n",
       "        vertical-align: middle;\n",
       "    }\n",
       "\n",
       "    .dataframe tbody tr th {\n",
       "        vertical-align: top;\n",
       "    }\n",
       "\n",
       "    .dataframe thead th {\n",
       "        text-align: right;\n",
       "    }\n",
       "</style>\n",
       "<table border=\"1\" class=\"dataframe\">\n",
       "  <thead>\n",
       "    <tr style=\"text-align: right;\">\n",
       "      <th></th>\n",
       "      <th>Idade</th>\n",
       "      <th>Peso Final</th>\n",
       "      <th>Num Educacao</th>\n",
       "      <th>Relacao</th>\n",
       "      <th>Raca</th>\n",
       "      <th>Sexo</th>\n",
       "      <th>Ganho Capital</th>\n",
       "      <th>Perda Capital</th>\n",
       "      <th>Horas Semana</th>\n",
       "      <th>Renda</th>\n",
       "    </tr>\n",
       "  </thead>\n",
       "  <tbody>\n",
       "    <tr>\n",
       "      <th>0</th>\n",
       "      <td>54</td>\n",
       "      <td>140359</td>\n",
       "      <td>4</td>\n",
       "      <td>Unmarried</td>\n",
       "      <td>White</td>\n",
       "      <td>Female</td>\n",
       "      <td>0</td>\n",
       "      <td>3900</td>\n",
       "      <td>40</td>\n",
       "      <td>0</td>\n",
       "    </tr>\n",
       "    <tr>\n",
       "      <th>1</th>\n",
       "      <td>41</td>\n",
       "      <td>264663</td>\n",
       "      <td>10</td>\n",
       "      <td>Own-child</td>\n",
       "      <td>White</td>\n",
       "      <td>Female</td>\n",
       "      <td>0</td>\n",
       "      <td>3900</td>\n",
       "      <td>40</td>\n",
       "      <td>0</td>\n",
       "    </tr>\n",
       "    <tr>\n",
       "      <th>2</th>\n",
       "      <td>34</td>\n",
       "      <td>216864</td>\n",
       "      <td>9</td>\n",
       "      <td>Unmarried</td>\n",
       "      <td>White</td>\n",
       "      <td>Female</td>\n",
       "      <td>0</td>\n",
       "      <td>3770</td>\n",
       "      <td>45</td>\n",
       "      <td>0</td>\n",
       "    </tr>\n",
       "    <tr>\n",
       "      <th>3</th>\n",
       "      <td>38</td>\n",
       "      <td>150601</td>\n",
       "      <td>6</td>\n",
       "      <td>Unmarried</td>\n",
       "      <td>White</td>\n",
       "      <td>Male</td>\n",
       "      <td>0</td>\n",
       "      <td>3770</td>\n",
       "      <td>40</td>\n",
       "      <td>0</td>\n",
       "    </tr>\n",
       "    <tr>\n",
       "      <th>4</th>\n",
       "      <td>41</td>\n",
       "      <td>70037</td>\n",
       "      <td>10</td>\n",
       "      <td>Unmarried</td>\n",
       "      <td>White</td>\n",
       "      <td>Male</td>\n",
       "      <td>0</td>\n",
       "      <td>3004</td>\n",
       "      <td>60</td>\n",
       "      <td>1</td>\n",
       "    </tr>\n",
       "  </tbody>\n",
       "</table>\n",
       "</div>"
      ],
      "text/plain": [
       "   Idade  Peso Final  Num Educacao    Relacao   Raca    Sexo  Ganho Capital  \\\n",
       "0     54      140359             4  Unmarried  White  Female              0   \n",
       "1     41      264663            10  Own-child  White  Female              0   \n",
       "2     34      216864             9  Unmarried  White  Female              0   \n",
       "3     38      150601             6  Unmarried  White    Male              0   \n",
       "4     41       70037            10  Unmarried  White    Male              0   \n",
       "\n",
       "   Perda Capital  Horas Semana  Renda  \n",
       "0           3900            40      0  \n",
       "1           3900            40      0  \n",
       "2           3770            45      0  \n",
       "3           3770            40      0  \n",
       "4           3004            60      1  "
      ]
     },
     "execution_count": 28,
     "metadata": {},
     "output_type": "execute_result"
    }
   ],
   "source": [
    "renda3.head()"
   ]
  },
  {
   "cell_type": "markdown",
   "id": "current-husband",
   "metadata": {},
   "source": [
    "### Criando dataframe com as variaveis numéricas com mais relevância"
   ]
  },
  {
   "cell_type": "code",
   "execution_count": 29,
   "id": "original-awareness",
   "metadata": {},
   "outputs": [],
   "source": [
    "renda3_aux = renda3.select_dtypes(include='number')"
   ]
  },
  {
   "cell_type": "markdown",
   "id": "synthetic-desire",
   "metadata": {},
   "source": [
    "* Concatenando as variaveis numericas do dataframe com as variaveis categoricas e convertidas para numericas com a função get_dummies"
   ]
  },
  {
   "cell_type": "code",
   "execution_count": 30,
   "id": "unsigned-jewel",
   "metadata": {},
   "outputs": [],
   "source": [
    "renda3_aux = pd.concat([renda3_aux, dummy_features], axis = 1)"
   ]
  },
  {
   "cell_type": "markdown",
   "id": "combined-helping",
   "metadata": {},
   "source": [
    "## Analise das melhores variaveis para a construção do modelo"
   ]
  },
  {
   "cell_type": "markdown",
   "id": "emotional-james",
   "metadata": {},
   "source": [
    "### Cria uma lista com as colunas da variavel X"
   ]
  },
  {
   "cell_type": "code",
   "execution_count": 31,
   "id": "monetary-stake",
   "metadata": {},
   "outputs": [],
   "source": [
    "lista_colunas_renda3 = ['Idade', 'Peso Final', 'Num Educacao', 'Ganho Capital', 'Perda Capital',\n",
    "       'Horas Semana', 'Relacao_Husband', 'Relacao_Not-in-family',\n",
    "       'Relacao_Other-relative', 'Relacao_Own-child', 'Relacao_Unmarried',\n",
    "       'Relacao_Wife', 'Raca_Amer-Indian-Eskimo', 'Raca_Asian-Pac-Islander',\n",
    "       'Raca_Black', 'Raca_Other', 'Raca_White', 'Sexo_Female', 'Sexo_Male']"
   ]
  },
  {
   "cell_type": "markdown",
   "id": "australian-eligibility",
   "metadata": {},
   "source": [
    "### Cria as variaveis x e y para a seleção dos melhores atributos para o modelo"
   ]
  },
  {
   "cell_type": "code",
   "execution_count": 32,
   "id": "found-exploration",
   "metadata": {},
   "outputs": [],
   "source": [
    "X_kbest = renda3_aux[lista_colunas_renda3]\n",
    "y_kbest = renda3_aux['Renda']"
   ]
  },
  {
   "cell_type": "code",
   "execution_count": 33,
   "id": "adjustable-burning",
   "metadata": {},
   "outputs": [
    {
     "data": {
      "text/html": [
       "<div>\n",
       "<style scoped>\n",
       "    .dataframe tbody tr th:only-of-type {\n",
       "        vertical-align: middle;\n",
       "    }\n",
       "\n",
       "    .dataframe tbody tr th {\n",
       "        vertical-align: top;\n",
       "    }\n",
       "\n",
       "    .dataframe thead th {\n",
       "        text-align: right;\n",
       "    }\n",
       "</style>\n",
       "<table border=\"1\" class=\"dataframe\">\n",
       "  <thead>\n",
       "    <tr style=\"text-align: right;\">\n",
       "      <th></th>\n",
       "      <th>Idade</th>\n",
       "      <th>Peso Final</th>\n",
       "      <th>Num Educacao</th>\n",
       "      <th>Ganho Capital</th>\n",
       "      <th>Perda Capital</th>\n",
       "      <th>Horas Semana</th>\n",
       "      <th>Relacao_Husband</th>\n",
       "      <th>Relacao_Not-in-family</th>\n",
       "      <th>Relacao_Other-relative</th>\n",
       "      <th>Relacao_Own-child</th>\n",
       "      <th>Relacao_Unmarried</th>\n",
       "      <th>Relacao_Wife</th>\n",
       "      <th>Raca_Amer-Indian-Eskimo</th>\n",
       "      <th>Raca_Asian-Pac-Islander</th>\n",
       "      <th>Raca_Black</th>\n",
       "      <th>Raca_Other</th>\n",
       "      <th>Raca_White</th>\n",
       "      <th>Sexo_Female</th>\n",
       "      <th>Sexo_Male</th>\n",
       "    </tr>\n",
       "  </thead>\n",
       "  <tbody>\n",
       "    <tr>\n",
       "      <th>0</th>\n",
       "      <td>54</td>\n",
       "      <td>140359</td>\n",
       "      <td>4</td>\n",
       "      <td>0</td>\n",
       "      <td>3900</td>\n",
       "      <td>40</td>\n",
       "      <td>0</td>\n",
       "      <td>0</td>\n",
       "      <td>0</td>\n",
       "      <td>0</td>\n",
       "      <td>1</td>\n",
       "      <td>0</td>\n",
       "      <td>0</td>\n",
       "      <td>0</td>\n",
       "      <td>0</td>\n",
       "      <td>0</td>\n",
       "      <td>1</td>\n",
       "      <td>1</td>\n",
       "      <td>0</td>\n",
       "    </tr>\n",
       "    <tr>\n",
       "      <th>1</th>\n",
       "      <td>41</td>\n",
       "      <td>264663</td>\n",
       "      <td>10</td>\n",
       "      <td>0</td>\n",
       "      <td>3900</td>\n",
       "      <td>40</td>\n",
       "      <td>0</td>\n",
       "      <td>0</td>\n",
       "      <td>0</td>\n",
       "      <td>1</td>\n",
       "      <td>0</td>\n",
       "      <td>0</td>\n",
       "      <td>0</td>\n",
       "      <td>0</td>\n",
       "      <td>0</td>\n",
       "      <td>0</td>\n",
       "      <td>1</td>\n",
       "      <td>1</td>\n",
       "      <td>0</td>\n",
       "    </tr>\n",
       "    <tr>\n",
       "      <th>2</th>\n",
       "      <td>34</td>\n",
       "      <td>216864</td>\n",
       "      <td>9</td>\n",
       "      <td>0</td>\n",
       "      <td>3770</td>\n",
       "      <td>45</td>\n",
       "      <td>0</td>\n",
       "      <td>0</td>\n",
       "      <td>0</td>\n",
       "      <td>0</td>\n",
       "      <td>1</td>\n",
       "      <td>0</td>\n",
       "      <td>0</td>\n",
       "      <td>0</td>\n",
       "      <td>0</td>\n",
       "      <td>0</td>\n",
       "      <td>1</td>\n",
       "      <td>1</td>\n",
       "      <td>0</td>\n",
       "    </tr>\n",
       "    <tr>\n",
       "      <th>3</th>\n",
       "      <td>38</td>\n",
       "      <td>150601</td>\n",
       "      <td>6</td>\n",
       "      <td>0</td>\n",
       "      <td>3770</td>\n",
       "      <td>40</td>\n",
       "      <td>0</td>\n",
       "      <td>0</td>\n",
       "      <td>0</td>\n",
       "      <td>0</td>\n",
       "      <td>1</td>\n",
       "      <td>0</td>\n",
       "      <td>0</td>\n",
       "      <td>0</td>\n",
       "      <td>0</td>\n",
       "      <td>0</td>\n",
       "      <td>1</td>\n",
       "      <td>0</td>\n",
       "      <td>1</td>\n",
       "    </tr>\n",
       "    <tr>\n",
       "      <th>4</th>\n",
       "      <td>41</td>\n",
       "      <td>70037</td>\n",
       "      <td>10</td>\n",
       "      <td>0</td>\n",
       "      <td>3004</td>\n",
       "      <td>60</td>\n",
       "      <td>0</td>\n",
       "      <td>0</td>\n",
       "      <td>0</td>\n",
       "      <td>0</td>\n",
       "      <td>1</td>\n",
       "      <td>0</td>\n",
       "      <td>0</td>\n",
       "      <td>0</td>\n",
       "      <td>0</td>\n",
       "      <td>0</td>\n",
       "      <td>1</td>\n",
       "      <td>0</td>\n",
       "      <td>1</td>\n",
       "    </tr>\n",
       "  </tbody>\n",
       "</table>\n",
       "</div>"
      ],
      "text/plain": [
       "   Idade  Peso Final  Num Educacao  Ganho Capital  Perda Capital  \\\n",
       "0     54      140359             4              0           3900   \n",
       "1     41      264663            10              0           3900   \n",
       "2     34      216864             9              0           3770   \n",
       "3     38      150601             6              0           3770   \n",
       "4     41       70037            10              0           3004   \n",
       "\n",
       "   Horas Semana  Relacao_Husband  Relacao_Not-in-family  \\\n",
       "0            40                0                      0   \n",
       "1            40                0                      0   \n",
       "2            45                0                      0   \n",
       "3            40                0                      0   \n",
       "4            60                0                      0   \n",
       "\n",
       "   Relacao_Other-relative  Relacao_Own-child  Relacao_Unmarried  Relacao_Wife  \\\n",
       "0                       0                  0                  1             0   \n",
       "1                       0                  1                  0             0   \n",
       "2                       0                  0                  1             0   \n",
       "3                       0                  0                  1             0   \n",
       "4                       0                  0                  1             0   \n",
       "\n",
       "   Raca_Amer-Indian-Eskimo  Raca_Asian-Pac-Islander  Raca_Black  Raca_Other  \\\n",
       "0                        0                        0           0           0   \n",
       "1                        0                        0           0           0   \n",
       "2                        0                        0           0           0   \n",
       "3                        0                        0           0           0   \n",
       "4                        0                        0           0           0   \n",
       "\n",
       "   Raca_White  Sexo_Female  Sexo_Male  \n",
       "0           1            1          0  \n",
       "1           1            1          0  \n",
       "2           1            1          0  \n",
       "3           1            0          1  \n",
       "4           1            0          1  "
      ]
     },
     "execution_count": 33,
     "metadata": {},
     "output_type": "execute_result"
    }
   ],
   "source": [
    "X_kbest.head()"
   ]
  },
  {
   "cell_type": "markdown",
   "id": "powered-czech",
   "metadata": {},
   "source": [
    "* Podemos observar pela imagem acima que existe uma diferença de intervalo de valores entre as colunas, vamos fazer uma transformação usando o MinMaxScaler do sklearn para deixar na mesma faixa"
   ]
  },
  {
   "cell_type": "markdown",
   "id": "closing-session",
   "metadata": {},
   "source": [
    "### Função para deixar os valores na mesma escala"
   ]
  },
  {
   "cell_type": "code",
   "execution_count": 34,
   "id": "impaired-export",
   "metadata": {},
   "outputs": [],
   "source": [
    "def retorna_data_mesma_escala(lista_colunas, data):\n",
    "    \n",
    "    #definindo a classe MinMaxScaler\n",
    "    scaler = MinMaxScaler()\n",
    "    \n",
    "    #Aplicando o algoritmo para deixar os valores na mesma escala de 0 a 1\n",
    "    data[lista_colunas] = scaler.fit_transform(data[lista_colunas])   \n",
    "    \n",
    "    return data"
   ]
  },
  {
   "cell_type": "code",
   "execution_count": 35,
   "id": "informal-river",
   "metadata": {},
   "outputs": [],
   "source": [
    "X_minmax = X_kbest.copy()"
   ]
  },
  {
   "cell_type": "code",
   "execution_count": 36,
   "id": "modern-withdrawal",
   "metadata": {},
   "outputs": [
    {
     "data": {
      "text/html": [
       "<div>\n",
       "<style scoped>\n",
       "    .dataframe tbody tr th:only-of-type {\n",
       "        vertical-align: middle;\n",
       "    }\n",
       "\n",
       "    .dataframe tbody tr th {\n",
       "        vertical-align: top;\n",
       "    }\n",
       "\n",
       "    .dataframe thead th {\n",
       "        text-align: right;\n",
       "    }\n",
       "</style>\n",
       "<table border=\"1\" class=\"dataframe\">\n",
       "  <thead>\n",
       "    <tr style=\"text-align: right;\">\n",
       "      <th></th>\n",
       "      <th>Idade</th>\n",
       "      <th>Peso Final</th>\n",
       "      <th>Num Educacao</th>\n",
       "      <th>Ganho Capital</th>\n",
       "      <th>Perda Capital</th>\n",
       "      <th>Horas Semana</th>\n",
       "      <th>Relacao_Husband</th>\n",
       "      <th>Relacao_Not-in-family</th>\n",
       "      <th>Relacao_Other-relative</th>\n",
       "      <th>Relacao_Own-child</th>\n",
       "      <th>Relacao_Unmarried</th>\n",
       "      <th>Relacao_Wife</th>\n",
       "      <th>Raca_Amer-Indian-Eskimo</th>\n",
       "      <th>Raca_Asian-Pac-Islander</th>\n",
       "      <th>Raca_Black</th>\n",
       "      <th>Raca_Other</th>\n",
       "      <th>Raca_White</th>\n",
       "      <th>Sexo_Female</th>\n",
       "      <th>Sexo_Male</th>\n",
       "    </tr>\n",
       "  </thead>\n",
       "  <tbody>\n",
       "    <tr>\n",
       "      <th>0</th>\n",
       "      <td>54</td>\n",
       "      <td>140359</td>\n",
       "      <td>4</td>\n",
       "      <td>0</td>\n",
       "      <td>3900</td>\n",
       "      <td>40</td>\n",
       "      <td>0</td>\n",
       "      <td>0</td>\n",
       "      <td>0</td>\n",
       "      <td>0</td>\n",
       "      <td>1</td>\n",
       "      <td>0</td>\n",
       "      <td>0</td>\n",
       "      <td>0</td>\n",
       "      <td>0</td>\n",
       "      <td>0</td>\n",
       "      <td>1</td>\n",
       "      <td>1</td>\n",
       "      <td>0</td>\n",
       "    </tr>\n",
       "    <tr>\n",
       "      <th>1</th>\n",
       "      <td>41</td>\n",
       "      <td>264663</td>\n",
       "      <td>10</td>\n",
       "      <td>0</td>\n",
       "      <td>3900</td>\n",
       "      <td>40</td>\n",
       "      <td>0</td>\n",
       "      <td>0</td>\n",
       "      <td>0</td>\n",
       "      <td>1</td>\n",
       "      <td>0</td>\n",
       "      <td>0</td>\n",
       "      <td>0</td>\n",
       "      <td>0</td>\n",
       "      <td>0</td>\n",
       "      <td>0</td>\n",
       "      <td>1</td>\n",
       "      <td>1</td>\n",
       "      <td>0</td>\n",
       "    </tr>\n",
       "    <tr>\n",
       "      <th>2</th>\n",
       "      <td>34</td>\n",
       "      <td>216864</td>\n",
       "      <td>9</td>\n",
       "      <td>0</td>\n",
       "      <td>3770</td>\n",
       "      <td>45</td>\n",
       "      <td>0</td>\n",
       "      <td>0</td>\n",
       "      <td>0</td>\n",
       "      <td>0</td>\n",
       "      <td>1</td>\n",
       "      <td>0</td>\n",
       "      <td>0</td>\n",
       "      <td>0</td>\n",
       "      <td>0</td>\n",
       "      <td>0</td>\n",
       "      <td>1</td>\n",
       "      <td>1</td>\n",
       "      <td>0</td>\n",
       "    </tr>\n",
       "    <tr>\n",
       "      <th>3</th>\n",
       "      <td>38</td>\n",
       "      <td>150601</td>\n",
       "      <td>6</td>\n",
       "      <td>0</td>\n",
       "      <td>3770</td>\n",
       "      <td>40</td>\n",
       "      <td>0</td>\n",
       "      <td>0</td>\n",
       "      <td>0</td>\n",
       "      <td>0</td>\n",
       "      <td>1</td>\n",
       "      <td>0</td>\n",
       "      <td>0</td>\n",
       "      <td>0</td>\n",
       "      <td>0</td>\n",
       "      <td>0</td>\n",
       "      <td>1</td>\n",
       "      <td>0</td>\n",
       "      <td>1</td>\n",
       "    </tr>\n",
       "    <tr>\n",
       "      <th>4</th>\n",
       "      <td>41</td>\n",
       "      <td>70037</td>\n",
       "      <td>10</td>\n",
       "      <td>0</td>\n",
       "      <td>3004</td>\n",
       "      <td>60</td>\n",
       "      <td>0</td>\n",
       "      <td>0</td>\n",
       "      <td>0</td>\n",
       "      <td>0</td>\n",
       "      <td>1</td>\n",
       "      <td>0</td>\n",
       "      <td>0</td>\n",
       "      <td>0</td>\n",
       "      <td>0</td>\n",
       "      <td>0</td>\n",
       "      <td>1</td>\n",
       "      <td>0</td>\n",
       "      <td>1</td>\n",
       "    </tr>\n",
       "  </tbody>\n",
       "</table>\n",
       "</div>"
      ],
      "text/plain": [
       "   Idade  Peso Final  Num Educacao  Ganho Capital  Perda Capital  \\\n",
       "0     54      140359             4              0           3900   \n",
       "1     41      264663            10              0           3900   \n",
       "2     34      216864             9              0           3770   \n",
       "3     38      150601             6              0           3770   \n",
       "4     41       70037            10              0           3004   \n",
       "\n",
       "   Horas Semana  Relacao_Husband  Relacao_Not-in-family  \\\n",
       "0            40                0                      0   \n",
       "1            40                0                      0   \n",
       "2            45                0                      0   \n",
       "3            40                0                      0   \n",
       "4            60                0                      0   \n",
       "\n",
       "   Relacao_Other-relative  Relacao_Own-child  Relacao_Unmarried  Relacao_Wife  \\\n",
       "0                       0                  0                  1             0   \n",
       "1                       0                  1                  0             0   \n",
       "2                       0                  0                  1             0   \n",
       "3                       0                  0                  1             0   \n",
       "4                       0                  0                  1             0   \n",
       "\n",
       "   Raca_Amer-Indian-Eskimo  Raca_Asian-Pac-Islander  Raca_Black  Raca_Other  \\\n",
       "0                        0                        0           0           0   \n",
       "1                        0                        0           0           0   \n",
       "2                        0                        0           0           0   \n",
       "3                        0                        0           0           0   \n",
       "4                        0                        0           0           0   \n",
       "\n",
       "   Raca_White  Sexo_Female  Sexo_Male  \n",
       "0           1            1          0  \n",
       "1           1            1          0  \n",
       "2           1            1          0  \n",
       "3           1            0          1  \n",
       "4           1            0          1  "
      ]
     },
     "execution_count": 36,
     "metadata": {},
     "output_type": "execute_result"
    }
   ],
   "source": [
    "X_minmax.head()"
   ]
  },
  {
   "cell_type": "markdown",
   "id": "heard-generator",
   "metadata": {},
   "source": [
    "### Criando lista com as variaveis a serem aplicados o algoritmo MinmaxScaler"
   ]
  },
  {
   "cell_type": "code",
   "execution_count": 37,
   "id": "rational-settle",
   "metadata": {},
   "outputs": [],
   "source": [
    "lista_colunas = ['Idade', 'Peso Final', 'Num Educacao', 'Ganho Capital', 'Perda Capital', 'Horas Semana']"
   ]
  },
  {
   "cell_type": "markdown",
   "id": "collected-contributor",
   "metadata": {},
   "source": [
    "### Chama função para transformar os valores de x na mesma escala"
   ]
  },
  {
   "cell_type": "code",
   "execution_count": 38,
   "id": "aging-hampshire",
   "metadata": {},
   "outputs": [],
   "source": [
    "X_minmax = retorna_data_mesma_escala(lista_colunas, X_minmax)"
   ]
  },
  {
   "cell_type": "code",
   "execution_count": 39,
   "id": "right-acrobat",
   "metadata": {},
   "outputs": [
    {
     "data": {
      "text/html": [
       "<div>\n",
       "<style scoped>\n",
       "    .dataframe tbody tr th:only-of-type {\n",
       "        vertical-align: middle;\n",
       "    }\n",
       "\n",
       "    .dataframe tbody tr th {\n",
       "        vertical-align: top;\n",
       "    }\n",
       "\n",
       "    .dataframe thead th {\n",
       "        text-align: right;\n",
       "    }\n",
       "</style>\n",
       "<table border=\"1\" class=\"dataframe\">\n",
       "  <thead>\n",
       "    <tr style=\"text-align: right;\">\n",
       "      <th></th>\n",
       "      <th>Idade</th>\n",
       "      <th>Peso Final</th>\n",
       "      <th>Num Educacao</th>\n",
       "      <th>Ganho Capital</th>\n",
       "      <th>Perda Capital</th>\n",
       "      <th>Horas Semana</th>\n",
       "      <th>Relacao_Husband</th>\n",
       "      <th>Relacao_Not-in-family</th>\n",
       "      <th>Relacao_Other-relative</th>\n",
       "      <th>Relacao_Own-child</th>\n",
       "      <th>Relacao_Unmarried</th>\n",
       "      <th>Relacao_Wife</th>\n",
       "      <th>Raca_Amer-Indian-Eskimo</th>\n",
       "      <th>Raca_Asian-Pac-Islander</th>\n",
       "      <th>Raca_Black</th>\n",
       "      <th>Raca_Other</th>\n",
       "      <th>Raca_White</th>\n",
       "      <th>Sexo_Female</th>\n",
       "      <th>Sexo_Male</th>\n",
       "    </tr>\n",
       "  </thead>\n",
       "  <tbody>\n",
       "    <tr>\n",
       "      <th>0</th>\n",
       "      <td>0.770833</td>\n",
       "      <td>0.086982</td>\n",
       "      <td>0.200000</td>\n",
       "      <td>0.0</td>\n",
       "      <td>1.000000</td>\n",
       "      <td>0.489362</td>\n",
       "      <td>0</td>\n",
       "      <td>0</td>\n",
       "      <td>0</td>\n",
       "      <td>0</td>\n",
       "      <td>1</td>\n",
       "      <td>0</td>\n",
       "      <td>0</td>\n",
       "      <td>0</td>\n",
       "      <td>0</td>\n",
       "      <td>0</td>\n",
       "      <td>1</td>\n",
       "      <td>1</td>\n",
       "      <td>0</td>\n",
       "    </tr>\n",
       "    <tr>\n",
       "      <th>1</th>\n",
       "      <td>0.500000</td>\n",
       "      <td>0.171404</td>\n",
       "      <td>0.600000</td>\n",
       "      <td>0.0</td>\n",
       "      <td>1.000000</td>\n",
       "      <td>0.489362</td>\n",
       "      <td>0</td>\n",
       "      <td>0</td>\n",
       "      <td>0</td>\n",
       "      <td>1</td>\n",
       "      <td>0</td>\n",
       "      <td>0</td>\n",
       "      <td>0</td>\n",
       "      <td>0</td>\n",
       "      <td>0</td>\n",
       "      <td>0</td>\n",
       "      <td>1</td>\n",
       "      <td>1</td>\n",
       "      <td>0</td>\n",
       "    </tr>\n",
       "    <tr>\n",
       "      <th>2</th>\n",
       "      <td>0.354167</td>\n",
       "      <td>0.138941</td>\n",
       "      <td>0.533333</td>\n",
       "      <td>0.0</td>\n",
       "      <td>0.966667</td>\n",
       "      <td>0.595745</td>\n",
       "      <td>0</td>\n",
       "      <td>0</td>\n",
       "      <td>0</td>\n",
       "      <td>0</td>\n",
       "      <td>1</td>\n",
       "      <td>0</td>\n",
       "      <td>0</td>\n",
       "      <td>0</td>\n",
       "      <td>0</td>\n",
       "      <td>0</td>\n",
       "      <td>1</td>\n",
       "      <td>1</td>\n",
       "      <td>0</td>\n",
       "    </tr>\n",
       "    <tr>\n",
       "      <th>3</th>\n",
       "      <td>0.437500</td>\n",
       "      <td>0.093938</td>\n",
       "      <td>0.333333</td>\n",
       "      <td>0.0</td>\n",
       "      <td>0.966667</td>\n",
       "      <td>0.489362</td>\n",
       "      <td>0</td>\n",
       "      <td>0</td>\n",
       "      <td>0</td>\n",
       "      <td>0</td>\n",
       "      <td>1</td>\n",
       "      <td>0</td>\n",
       "      <td>0</td>\n",
       "      <td>0</td>\n",
       "      <td>0</td>\n",
       "      <td>0</td>\n",
       "      <td>1</td>\n",
       "      <td>0</td>\n",
       "      <td>1</td>\n",
       "    </tr>\n",
       "    <tr>\n",
       "      <th>4</th>\n",
       "      <td>0.500000</td>\n",
       "      <td>0.039223</td>\n",
       "      <td>0.600000</td>\n",
       "      <td>0.0</td>\n",
       "      <td>0.770256</td>\n",
       "      <td>0.914894</td>\n",
       "      <td>0</td>\n",
       "      <td>0</td>\n",
       "      <td>0</td>\n",
       "      <td>0</td>\n",
       "      <td>1</td>\n",
       "      <td>0</td>\n",
       "      <td>0</td>\n",
       "      <td>0</td>\n",
       "      <td>0</td>\n",
       "      <td>0</td>\n",
       "      <td>1</td>\n",
       "      <td>0</td>\n",
       "      <td>1</td>\n",
       "    </tr>\n",
       "  </tbody>\n",
       "</table>\n",
       "</div>"
      ],
      "text/plain": [
       "      Idade  Peso Final  Num Educacao  Ganho Capital  Perda Capital  \\\n",
       "0  0.770833    0.086982      0.200000            0.0       1.000000   \n",
       "1  0.500000    0.171404      0.600000            0.0       1.000000   \n",
       "2  0.354167    0.138941      0.533333            0.0       0.966667   \n",
       "3  0.437500    0.093938      0.333333            0.0       0.966667   \n",
       "4  0.500000    0.039223      0.600000            0.0       0.770256   \n",
       "\n",
       "   Horas Semana  Relacao_Husband  Relacao_Not-in-family  \\\n",
       "0      0.489362                0                      0   \n",
       "1      0.489362                0                      0   \n",
       "2      0.595745                0                      0   \n",
       "3      0.489362                0                      0   \n",
       "4      0.914894                0                      0   \n",
       "\n",
       "   Relacao_Other-relative  Relacao_Own-child  Relacao_Unmarried  Relacao_Wife  \\\n",
       "0                       0                  0                  1             0   \n",
       "1                       0                  1                  0             0   \n",
       "2                       0                  0                  1             0   \n",
       "3                       0                  0                  1             0   \n",
       "4                       0                  0                  1             0   \n",
       "\n",
       "   Raca_Amer-Indian-Eskimo  Raca_Asian-Pac-Islander  Raca_Black  Raca_Other  \\\n",
       "0                        0                        0           0           0   \n",
       "1                        0                        0           0           0   \n",
       "2                        0                        0           0           0   \n",
       "3                        0                        0           0           0   \n",
       "4                        0                        0           0           0   \n",
       "\n",
       "   Raca_White  Sexo_Female  Sexo_Male  \n",
       "0           1            1          0  \n",
       "1           1            1          0  \n",
       "2           1            1          0  \n",
       "3           1            0          1  \n",
       "4           1            0          1  "
      ]
     },
     "execution_count": 39,
     "metadata": {},
     "output_type": "execute_result"
    }
   ],
   "source": [
    "X_minmax.head()"
   ]
  },
  {
   "cell_type": "markdown",
   "id": "mathematical-selling",
   "metadata": {},
   "source": [
    "### Função para retornar as melhores features para o modelo"
   ]
  },
  {
   "cell_type": "code",
   "execution_count": 40,
   "id": "continent-committee",
   "metadata": {},
   "outputs": [],
   "source": [
    "def retorna_melhores_features(X, y):\n",
    "    \n",
    "    #Inicia o algoritmo para a escolha das melhores variaveis\n",
    "    select = SelectKBest(score_func=chi2, k=12)\n",
    "    \n",
    "    # Treina o algoritmo\n",
    "    z = select.fit_transform(X_minmax,y_kbest)\n",
    "    \n",
    "    # Identifica os indices\n",
    "    cols = select.get_support(indices=True)\n",
    "    \n",
    "    # Seleciona as features\n",
    "    features = X_kbest.iloc[:,cols]\n",
    "    \n",
    "    return features"
   ]
  },
  {
   "cell_type": "markdown",
   "id": "grand-hamburg",
   "metadata": {},
   "source": [
    "### Chama função retornar melhores features"
   ]
  },
  {
   "cell_type": "code",
   "execution_count": 41,
   "id": "living-lesbian",
   "metadata": {},
   "outputs": [],
   "source": [
    "features = retorna_melhores_features(X_minmax, y_kbest)"
   ]
  },
  {
   "cell_type": "code",
   "execution_count": 42,
   "id": "straight-australia",
   "metadata": {},
   "outputs": [
    {
     "data": {
      "text/plain": [
       "Index(['Idade', 'Ganho Capital', 'Perda Capital', 'Relacao_Husband',\n",
       "       'Relacao_Not-in-family', 'Relacao_Other-relative', 'Relacao_Own-child',\n",
       "       'Relacao_Unmarried', 'Relacao_Wife', 'Raca_Black', 'Sexo_Female',\n",
       "       'Sexo_Male'],\n",
       "      dtype='object')"
      ]
     },
     "execution_count": 42,
     "metadata": {},
     "output_type": "execute_result"
    }
   ],
   "source": [
    "features.columns"
   ]
  },
  {
   "cell_type": "markdown",
   "id": "pretty-concert",
   "metadata": {},
   "source": [
    "### Resultados das melhores features com o metodo do sklearn selectkbest\n",
    "* Podemos verificar que as melhores features são Idade, Ganho Capital, Perda Capital, Relacao, Raca, Sexo"
   ]
  },
  {
   "cell_type": "markdown",
   "id": "decent-abuse",
   "metadata": {},
   "source": [
    "# Balanceamento da base"
   ]
  },
  {
   "cell_type": "markdown",
   "id": "ideal-witness",
   "metadata": {},
   "source": [
    "* Podemos ver pelo grafico abaixo que a variavel alvo \"Renda\" esta desbalanceada, temos mais pessoas que ganham menos de 50K."
   ]
  },
  {
   "cell_type": "code",
   "execution_count": 43,
   "id": "cosmetic-austin",
   "metadata": {},
   "outputs": [
    {
     "data": {
      "text/plain": [
       "<AxesSubplot:xlabel='Renda', ylabel='count'>"
      ]
     },
     "execution_count": 43,
     "metadata": {},
     "output_type": "execute_result"
    },
    {
     "data": {
      "image/png": "[encoded data removed]",
      "text/plain": [
       "<Figure size 432x288 with 1 Axes>"
      ]
     },
     "metadata": {
      "needs_background": "light"
     },
     "output_type": "display_data"
    }
   ],
   "source": [
    "sns.countplot(renda['Renda'])"
   ]
  },
  {
   "cell_type": "markdown",
   "id": "statutory-transport",
   "metadata": {},
   "source": [
    "* Para teste da acuracia vamos aplicar a tecnica do gradiente boosting com a base desbalanceada"
   ]
  },
  {
   "cell_type": "markdown",
   "id": "adjusted-indonesian",
   "metadata": {},
   "source": [
    "### Cria lista para a separação das variaveis x e y"
   ]
  },
  {
   "cell_type": "code",
   "execution_count": 44,
   "id": "limited-defeat",
   "metadata": {},
   "outputs": [],
   "source": [
    "lista_colunas_xminmax = ['Idade', 'Ganho Capital', 'Perda Capital', 'Relacao_Husband', 'Relacao_Not-in-family',\n",
    "              'Relacao_Other-relative', 'Relacao_Own-child', 'Relacao_Unmarried',\n",
    "              'Relacao_Wife', 'Raca_Amer-Indian-Eskimo', 'Raca_Asian-Pac-Islander',\n",
    "              'Raca_Black', 'Raca_Other', 'Raca_White', 'Sexo_Female', 'Sexo_Male']"
   ]
  },
  {
   "cell_type": "markdown",
   "id": "continuing-ferry",
   "metadata": {},
   "source": [
    "### Cria as variaveis x e y para aplicar algoritmo de balanceamento da base de dados"
   ]
  },
  {
   "cell_type": "code",
   "execution_count": 45,
   "id": "brown-liberia",
   "metadata": {},
   "outputs": [],
   "source": [
    "X = X_minmax[lista_colunas_xminmax]\n",
    "y = y_kbest"
   ]
  },
  {
   "cell_type": "markdown",
   "id": "compact-cincinnati",
   "metadata": {},
   "source": [
    "### Função para executar o treino, previsão do algoritmo e retornar a acuracia"
   ]
  },
  {
   "cell_type": "code",
   "execution_count": 46,
   "id": "loaded-perfume",
   "metadata": {},
   "outputs": [],
   "source": [
    "def treina_retorna_acuracia(X, y):\n",
    "    \n",
    "    #Separa base de treino e teste\n",
    "    X_train, X_test, y_train, y_test = train_test_split(X, y, test_size=0.2, random_state=1)\n",
    "\n",
    "    # treina o algoritmo\n",
    "    model = XGBClassifier()\n",
    "    model.fit(X_train, y_train, eval_metric='rmse')\n",
    "    y_pred = model.predict(X_test)\n",
    "    \n",
    "    #Retorna acuracia\n",
    "    accuracy = accuracy_score(y_test, y_pred)     \n",
    "    \n",
    "    return accuracy"
   ]
  },
  {
   "cell_type": "markdown",
   "id": "pharmaceutical-participant",
   "metadata": {},
   "source": [
    "* Chama a função com a base desbalanceada que faz o treinamento, a previsão e retorna a acuracia do modelo com a base desbalanceada"
   ]
  },
  {
   "cell_type": "code",
   "execution_count": 47,
   "id": "adjacent-buffer",
   "metadata": {},
   "outputs": [
    {
     "name": "stdout",
     "output_type": "stream",
     "text": [
      "Acuracia: 82.41%\n"
     ]
    }
   ],
   "source": [
    "acuracia = treina_retorna_acuracia(X, y)\n",
    "print(\"Acuracia: %.2f%%\" % (acuracia * 100.0))"
   ]
  },
  {
   "cell_type": "markdown",
   "id": "aquatic-vessel",
   "metadata": {},
   "source": [
    "### Matriz de confusão com a base de dados desbalanceada"
   ]
  },
  {
   "cell_type": "code",
   "execution_count": 48,
   "id": "architectural-patrol",
   "metadata": {},
   "outputs": [],
   "source": [
    "def retorna_matriz_confusao(X, y):\n",
    "    \n",
    "    #Separa base de treino e teste\n",
    "    X_train, X_test, y_train, y_test = train_test_split(X, y, test_size=0.2, random_state=1)\n",
    "\n",
    "    # treina o algoritmo\n",
    "    model = XGBClassifier()\n",
    "    model.fit(X_train, y_train, eval_metric='rmse')\n",
    "    y_pred = model.predict(X_test)\n",
    "    \n",
    "    #Retorna matriz de confusão\n",
    "    conf_mat = confusion_matrix(y_true=y_test, y_pred=y_pred)\n",
    "    \n",
    "    return conf_mat"
   ]
  },
  {
   "cell_type": "markdown",
   "id": "julian-brighton",
   "metadata": {},
   "source": [
    "### Chama a função para retornar a matriz de confusão com os dados desbalanceados"
   ]
  },
  {
   "cell_type": "code",
   "execution_count": 49,
   "id": "hired-rebound",
   "metadata": {},
   "outputs": [
    {
     "name": "stdout",
     "output_type": "stream",
     "text": [
      "Matriz de Confusão matrix:\n",
      " [[4056  307]\n",
      " [ 710  709]]\n"
     ]
    }
   ],
   "source": [
    "conf_mat = retorna_matriz_confusao(X, y)\n",
    "print('Matriz de Confusão matrix:\\n', conf_mat)"
   ]
  },
  {
   "cell_type": "markdown",
   "id": "cleared-cornwall",
   "metadata": {},
   "source": [
    "### Analisando a matriz de confusão temos:\n",
    "\n",
    "* Previu que recebem <=50k 4056 vezes corretamente;\n",
    "* Previu que recebem >50k 709 vezes corretamente;\n",
    "* Previu que recebem <=50k 307 vezes incorretamente\n",
    "* Previu que recebem >50k 710 vezes incorretamente"
   ]
  },
  {
   "cell_type": "markdown",
   "id": "australian-possession",
   "metadata": {},
   "source": [
    "### Função com todos os algoritmos e faz chamada a anterior no final gera um dataframe com as acuracias"
   ]
  },
  {
   "cell_type": "code",
   "execution_count": 50,
   "id": "expired-brief",
   "metadata": {},
   "outputs": [],
   "source": [
    "def testa_algoritmo_base_desbalanceada(X, y):\n",
    "    \n",
    "    # Cria data frame com o resultados da acuracia dos algoritmos\n",
    "    df_resultado_algoritmos = pd.DataFrame(columns = ['Algoritmo' , 'Acuracia'])\n",
    "    \n",
    "    print(\"Executando algoritmo Nearmiss\")\n",
    "    nm1 = NearMiss(version=1)\n",
    "    X_resampled_nm1, y_resampled = nm1.fit_resample(X, y)\n",
    "    resultado = treina_retorna_acuracia(X_resampled_nm1, y_resampled)    \n",
    "    df_resultado_algoritmos = df_resultado_algoritmos.append({'Algoritmo': 'Nearmiss', 'Acuracia': resultado * 100}, ignore_index=True)\n",
    "    \n",
    "    print(\"Executando algoritmo AllKNN\")    \n",
    "    allknn = AllKNN()\n",
    "    X_resampled, y_resampled = allknn.fit_resample(X, y)\n",
    "    resultado = treina_retorna_acuracia(X_resampled, y_resampled)\n",
    "    df_resultado_algoritmos = df_resultado_algoritmos.append({'Algoritmo': 'AllKNN', 'Acuracia': resultado * 100}, ignore_index=True)\n",
    "    \n",
    "    print(\"Executando algoritmo NeighbourhoodCleaningRule\")    \n",
    "    ncr = NeighbourhoodCleaningRule()\n",
    "    X_resampled, y_resampled = ncr.fit_resample(X, y)\n",
    "    resultado = treina_retorna_acuracia(X_resampled, y_resampled)\n",
    "    df_resultado_algoritmos = df_resultado_algoritmos.append({'Algoritmo': 'NeighbourhoodCleaningRule', 'Acuracia': resultado * 100}, ignore_index=True)\n",
    "    \n",
    "    print(\"Executando algoritmo Smote\")    \n",
    "    X_resampled, y_resampled = SMOTE().fit_resample(X, y)    \n",
    "    resultado = treina_retorna_acuracia(X_resampled, y_resampled)\n",
    "    df_resultado_algoritmos = df_resultado_algoritmos.append({'Algoritmo': 'Smote', 'Acuracia': resultado * 100}, ignore_index=True)\n",
    "    \n",
    "    print(\"Executando algoritmo Smoteenn\")    \n",
    "    smote_enn = SMOTEENN(random_state=0)\n",
    "    X_resampled, y_resampled = smote_enn.fit_resample(X, y)    \n",
    "    resultado = treina_retorna_acuracia(X_resampled, y_resampled)\n",
    "    df_resultado_algoritmos = df_resultado_algoritmos.append({'Algoritmo': 'Smoteenn', 'Acuracia': resultado * 100}, ignore_index=True)\n",
    "    \n",
    "    print(\"Executando algoritmo SmoteTomek\")\n",
    "    smote_tomek = SMOTETomek(random_state=0)\n",
    "    X_resampled, y_resampled = smote_tomek.fit_resample(X, y)\n",
    "    resultado = treina_retorna_acuracia(X_resampled, y_resampled)\n",
    "    df_resultado_algoritmos = df_resultado_algoritmos.append({'Algoritmo': 'SmoteTomek', 'Acuracia': resultado * 100}, ignore_index=True)\n",
    "    \n",
    "    return df_resultado_algoritmos"
   ]
  },
  {
   "cell_type": "markdown",
   "id": "therapeutic-angola",
   "metadata": {},
   "source": [
    "### Faz o teste com todos os algoritmos de balanceamento"
   ]
  },
  {
   "cell_type": "code",
   "execution_count": 51,
   "id": "divided-fireplace",
   "metadata": {},
   "outputs": [
    {
     "name": "stdout",
     "output_type": "stream",
     "text": [
      "Executando algoritmo Nearmiss\n",
      "Executando algoritmo AllKNN\n",
      "Executando algoritmo NeighbourhoodCleaningRule\n",
      "Executando algoritmo Smote\n",
      "Executando algoritmo Smoteenn\n",
      "Executando algoritmo SmoteTomek\n"
     ]
    }
   ],
   "source": [
    "df_resultado_algoritmos = testa_algoritmo_base_desbalanceada(X, y)"
   ]
  },
  {
   "cell_type": "markdown",
   "id": "unexpected-suspect",
   "metadata": {},
   "source": [
    "### Lista com o resultado de acuracia dos algoritmos"
   ]
  },
  {
   "cell_type": "code",
   "execution_count": 52,
   "id": "streaming-beaver",
   "metadata": {},
   "outputs": [
    {
     "data": {
      "text/html": [
       "<div>\n",
       "<style scoped>\n",
       "    .dataframe tbody tr th:only-of-type {\n",
       "        vertical-align: middle;\n",
       "    }\n",
       "\n",
       "    .dataframe tbody tr th {\n",
       "        vertical-align: top;\n",
       "    }\n",
       "\n",
       "    .dataframe thead th {\n",
       "        text-align: right;\n",
       "    }\n",
       "</style>\n",
       "<table border=\"1\" class=\"dataframe\">\n",
       "  <thead>\n",
       "    <tr style=\"text-align: right;\">\n",
       "      <th></th>\n",
       "      <th>Algoritmo</th>\n",
       "      <th>Acuracia</th>\n",
       "    </tr>\n",
       "  </thead>\n",
       "  <tbody>\n",
       "    <tr>\n",
       "      <th>4</th>\n",
       "      <td>Smoteenn</td>\n",
       "      <td>99.383896</td>\n",
       "    </tr>\n",
       "    <tr>\n",
       "      <th>1</th>\n",
       "      <td>AllKNN</td>\n",
       "      <td>94.478820</td>\n",
       "    </tr>\n",
       "    <tr>\n",
       "      <th>2</th>\n",
       "      <td>NeighbourhoodCleaningRule</td>\n",
       "      <td>85.539359</td>\n",
       "    </tr>\n",
       "    <tr>\n",
       "      <th>5</th>\n",
       "      <td>SmoteTomek</td>\n",
       "      <td>82.389360</td>\n",
       "    </tr>\n",
       "    <tr>\n",
       "      <th>3</th>\n",
       "      <td>Smote</td>\n",
       "      <td>82.297960</td>\n",
       "    </tr>\n",
       "    <tr>\n",
       "      <th>0</th>\n",
       "      <td>Nearmiss</td>\n",
       "      <td>69.903260</td>\n",
       "    </tr>\n",
       "  </tbody>\n",
       "</table>\n",
       "</div>"
      ],
      "text/plain": [
       "                   Algoritmo   Acuracia\n",
       "4                   Smoteenn  99.383896\n",
       "1                     AllKNN  94.478820\n",
       "2  NeighbourhoodCleaningRule  85.539359\n",
       "5                 SmoteTomek  82.389360\n",
       "3                      Smote  82.297960\n",
       "0                   Nearmiss  69.903260"
      ]
     },
     "execution_count": 52,
     "metadata": {},
     "output_type": "execute_result"
    }
   ],
   "source": [
    "df_resultado_algoritmos.sort_values(by='Acuracia', ascending=False)"
   ]
  },
  {
   "cell_type": "markdown",
   "id": "functioning-scientist",
   "metadata": {},
   "source": [
    "* Pelo resultado acima o melhor algoritmo de balanceamento foi o Smoteenn, sendo assim faremos a aplicação do algoritmo para o balanceamento da base de dados "
   ]
  },
  {
   "cell_type": "markdown",
   "id": "timely-wednesday",
   "metadata": {},
   "source": [
    "### Definindo o algoritmo smoteen que teve a melhor performance na base de dados para fazer o balanceamento da base de dados"
   ]
  },
  {
   "cell_type": "code",
   "execution_count": 53,
   "id": "ordered-messaging",
   "metadata": {},
   "outputs": [],
   "source": [
    "smote_enn = SMOTEENN(random_state=0)"
   ]
  },
  {
   "cell_type": "markdown",
   "id": "organic-shell",
   "metadata": {},
   "source": [
    "### Criando as variaveis X e y"
   ]
  },
  {
   "cell_type": "code",
   "execution_count": 54,
   "id": "limited-aside",
   "metadata": {},
   "outputs": [],
   "source": [
    "X_resampled, y_resampled = smote_enn.fit_resample(X, y)"
   ]
  },
  {
   "cell_type": "code",
   "execution_count": 55,
   "id": "optimum-intro",
   "metadata": {},
   "outputs": [],
   "source": [
    "X = X_resampled\n",
    "y = y_resampled"
   ]
  },
  {
   "cell_type": "markdown",
   "id": "desperate-communications",
   "metadata": {},
   "source": [
    "### Medindo a acuracia do modelo com a base balanceada"
   ]
  },
  {
   "cell_type": "code",
   "execution_count": 56,
   "id": "turned-gentleman",
   "metadata": {},
   "outputs": [
    {
     "name": "stdout",
     "output_type": "stream",
     "text": [
      "Acuracia: 99.38%\n"
     ]
    }
   ],
   "source": [
    "acuracia = treina_retorna_acuracia(X, y)\n",
    "print(\"Acuracia: %.2f%%\" % (acuracia * 100.0))"
   ]
  },
  {
   "cell_type": "markdown",
   "id": "raising-pantyhose",
   "metadata": {},
   "source": [
    "### Matriz de confusão com a base balanceada"
   ]
  },
  {
   "cell_type": "code",
   "execution_count": 57,
   "id": "foreign-therapist",
   "metadata": {},
   "outputs": [
    {
     "name": "stdout",
     "output_type": "stream",
     "text": [
      "Matriz de Confusão matrix:\n",
      " [[2636    8]\n",
      " [  21 2042]]\n"
     ]
    }
   ],
   "source": [
    "conf_mat = retorna_matriz_confusao(X, y)\n",
    "print('Matriz de Confusão matrix:\\n', conf_mat)"
   ]
  },
  {
   "cell_type": "markdown",
   "id": "described-korean",
   "metadata": {},
   "source": [
    "### Analisando a nova matriz de confusão com a base balanceada temos:\n",
    "\n",
    "* Previu que recebem <=50k 2636 vezes corretamente;\n",
    "* Previu que recebem >50k 2042 vezes corretamente;\n",
    "* Previu que recebem <=50k 8 vezes incorretamente\n",
    "* Previu que recebem >50k 21 vezes incorretamente"
   ]
  },
  {
   "cell_type": "markdown",
   "id": "short-minimum",
   "metadata": {},
   "source": [
    "# Divisão base de dados em treino, teste e validação\n",
    "\n",
    "* Na seção abaixo esta sendo usado a classe GridSearchCV do sklearn para identificar os melhores hiperparametros para cada algorimo de machine learning utilizado, bem como a técnica de validação cruzada para validação e diminuição do overfiting do modelo"
   ]
  },
  {
   "cell_type": "markdown",
   "id": "dried-legislation",
   "metadata": {},
   "source": [
    "* Função utilizada para verificar os melhores hiperparametros para os algoritmos de machine learning e utiliza a técnica de validação cruzada para verificar os scores a fim de diminuir o overfiting"
   ]
  },
  {
   "cell_type": "code",
   "execution_count": 58,
   "id": "prescription-sugar",
   "metadata": {},
   "outputs": [],
   "source": [
    "def retorna_melhores_parametros_score(X, y, param_grid, modelo, nome_alg):\n",
    "    \n",
    "    #Separa os dados em treino e teste\n",
    "    X_train, X_test, y_train, y_test = train_test_split(X, y, test_size=0.2, random_state=1)\n",
    "    \n",
    "    #Cria uma instancia de gridsearchcv\n",
    "    grid_cv = GridSearchCV(estimator = modelo, param_grid = param_grid, cv = 3, n_jobs = -1, verbose = 2)\n",
    "    \n",
    "    #Faz o treinamento utilizando o GridSearchCV\n",
    "    if nome_alg == 'XGB':\n",
    "        grid_cv.fit(X_train, y_train, eval_metric='rmse')\n",
    "    else:\n",
    "        grid_cv.fit(X_train, y_train)\n",
    "        \n",
    "    #Seta variavel com os melhores parametros        \n",
    "    best_params = grid_cv.best_params_\n",
    "    \n",
    "    #Seta variavel com a media dos score usando a função cross_val_score\n",
    "    medias = cross_val_score(modelo, X_test, y_test, cv=5)\n",
    "    media = sum(medias) / len(medias)\n",
    "    \n",
    "    # Retorna melhores parametros e media dos score\n",
    "    return best_params, media"
   ]
  },
  {
   "cell_type": "markdown",
   "id": "contemporary-tractor",
   "metadata": {},
   "source": [
    "### Algoritmo XGB"
   ]
  },
  {
   "cell_type": "code",
   "execution_count": 59,
   "id": "electric-tiger",
   "metadata": {},
   "outputs": [
    {
     "name": "stdout",
     "output_type": "stream",
     "text": [
      "Fitting 3 folds for each of 96 candidates, totalling 288 fits\n",
      "[09:59:24] WARNING: C:/Users/Administrator/workspace/xgboost-win64_release_1.4.0/src/learner.cc:1095: Starting in XGBoost 1.3.0, the default evaluation metric used with the objective 'binary:logistic' was changed from 'error' to 'logloss'. Explicitly set eval_metric if you'd like to restore the old behavior.\n",
      "[09:59:24] WARNING: C:/Users/Administrator/workspace/xgboost-win64_release_1.4.0/src/learner.cc:1095: Starting in XGBoost 1.3.0, the default evaluation metric used with the objective 'binary:logistic' was changed from 'error' to 'logloss'. Explicitly set eval_metric if you'd like to restore the old behavior.\n",
      "[09:59:24] WARNING: C:/Users/Administrator/workspace/xgboost-win64_release_1.4.0/src/learner.cc:1095: Starting in XGBoost 1.3.0, the default evaluation metric used with the objective 'binary:logistic' was changed from 'error' to 'logloss'. Explicitly set eval_metric if you'd like to restore the old behavior.\n",
      "[09:59:24] WARNING: C:/Users/Administrator/workspace/xgboost-win64_release_1.4.0/src/learner.cc:1095: Starting in XGBoost 1.3.0, the default evaluation metric used with the objective 'binary:logistic' was changed from 'error' to 'logloss'. Explicitly set eval_metric if you'd like to restore the old behavior.\n",
      "[09:59:24] WARNING: C:/Users/Administrator/workspace/xgboost-win64_release_1.4.0/src/learner.cc:1095: Starting in XGBoost 1.3.0, the default evaluation metric used with the objective 'binary:logistic' was changed from 'error' to 'logloss'. Explicitly set eval_metric if you'd like to restore the old behavior.\n"
     ]
    }
   ],
   "source": [
    "# Seta os parametros\n",
    "param_grid = {'max_depth': range (2, 10, 1),\n",
    "              'n_estimators': range(60, 220, 40),\n",
    "              'learning_rate': [0.1, 0.01, 0.05]}\n",
    "\n",
    "# Definição do modelo\n",
    "modelo = XGBClassifier(objective= 'binary:logistic', nthread=4, seed=42)\n",
    "\n",
    "# Chama a função que retorna os melhores parametros e score\n",
    "best_params, score = retorna_melhores_parametros_score(X, y, param_grid, modelo, 'XGB')"
   ]
  },
  {
   "cell_type": "markdown",
   "id": "together-cornell",
   "metadata": {},
   "source": [
    "### Melhores parametros e score algoritmo XGB"
   ]
  },
  {
   "cell_type": "code",
   "execution_count": 60,
   "id": "competitive-montana",
   "metadata": {},
   "outputs": [
    {
     "name": "stdout",
     "output_type": "stream",
     "text": [
      "best_params:  {'learning_rate': 0.1, 'max_depth': 9, 'n_estimators': 180}\n",
      "Score: 98.45%\n"
     ]
    }
   ],
   "source": [
    "print('best_params: ',best_params)\n",
    "print(\"Score: %.2f%%\" % (score * 100.0))"
   ]
  },
  {
   "cell_type": "markdown",
   "id": "executed-albuquerque",
   "metadata": {},
   "source": [
    "### Algoritmo Random Forest"
   ]
  },
  {
   "cell_type": "code",
   "execution_count": 61,
   "id": "young-yahoo",
   "metadata": {},
   "outputs": [
    {
     "name": "stdout",
     "output_type": "stream",
     "text": [
      "Fitting 3 folds for each of 288 candidates, totalling 864 fits\n"
     ]
    }
   ],
   "source": [
    "# Seta os parametros\n",
    "param_grid = {'bootstrap': [True],\n",
    "              'max_depth': [70, 80, 90, 100],\n",
    "              'max_features': [2, 3],\n",
    "              'min_samples_leaf': [3, 4, 5],\n",
    "              'min_samples_split': [4, 5, 6],\n",
    "              'n_estimators': [500, 600, 700, 1000]}\n",
    "\n",
    "# Definição do modelo\n",
    "modelo = RandomForestClassifier(random_state=1)\n",
    "\n",
    "# Chama a função que retorna os melhores parametros e score\n",
    "best_params, score = retorna_melhores_parametros_score(X, y, param_grid, modelo, 'RF')"
   ]
  },
  {
   "cell_type": "markdown",
   "id": "awful-reason",
   "metadata": {},
   "source": [
    "### Melhores parametros e score algoritmo Random Forest"
   ]
  },
  {
   "cell_type": "code",
   "execution_count": 62,
   "id": "optional-teens",
   "metadata": {},
   "outputs": [
    {
     "name": "stdout",
     "output_type": "stream",
     "text": [
      "best_params:  {'bootstrap': True, 'max_depth': 70, 'max_features': 2, 'min_samples_leaf': 3, 'min_samples_split': 4, 'n_estimators': 700}\n",
      "Score: 98.60%\n"
     ]
    }
   ],
   "source": [
    "print('best_params: ',best_params)\n",
    "print(\"Score: %.2f%%\" % (score * 100.0))"
   ]
  },
  {
   "cell_type": "markdown",
   "id": "controlling-paintball",
   "metadata": {},
   "source": [
    "### Algoritmo Decision Tree"
   ]
  },
  {
   "cell_type": "code",
   "execution_count": 63,
   "id": "assured-header",
   "metadata": {},
   "outputs": [
    {
     "name": "stdout",
     "output_type": "stream",
     "text": [
      "Fitting 3 folds for each of 24 candidates, totalling 72 fits\n"
     ]
    }
   ],
   "source": [
    "# Seta os parametros\n",
    "param_grid = { 'criterion':['gini','entropy'],\n",
    "               'max_depth': np.arange(3, 15)}\n",
    "\n",
    "# Definição do modelo\n",
    "modelo = DecisionTreeClassifier(random_state = 1)\n",
    "\n",
    "# Chama a função que retorna os melhores parametros e score\n",
    "best_params, score = retorna_melhores_parametros_score(X, y, param_grid, modelo, 'DECISIONTREE')"
   ]
  },
  {
   "cell_type": "markdown",
   "id": "monetary-klein",
   "metadata": {},
   "source": [
    "### Melhores parametros e score algoritmo Decision Tree"
   ]
  },
  {
   "cell_type": "code",
   "execution_count": 64,
   "id": "graphic-thursday",
   "metadata": {},
   "outputs": [
    {
     "name": "stdout",
     "output_type": "stream",
     "text": [
      "best_params:  {'criterion': 'entropy', 'max_depth': 14}\n",
      "Score: 98.15%\n"
     ]
    }
   ],
   "source": [
    "print('best_params: ',best_params)\n",
    "print(\"Score: %.2f%%\" % (score * 100.0))"
   ]
  }
 ],
 "metadata": {
  "kernelspec": {
   "display_name": "Python 3",
   "language": "python",
   "name": "python3"
  },
  "language_info": {
   "codemirror_mode": {
    "name": "ipython",
    "version": 3
   },
   "file_extension": ".py",
   "mimetype": "text/x-python",
   "name": "python",
   "nbconvert_exporter": "python",
   "pygments_lexer": "ipython3",
   "version": "3.8.6"
  }
 },
 "nbformat": 4,
 "nbformat_minor": 5
}
